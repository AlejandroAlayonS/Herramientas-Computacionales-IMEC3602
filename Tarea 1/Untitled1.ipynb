{
 "cells": [
  {
   "cell_type": "markdown",
   "metadata": {},
   "source": [
    "# Tarea 1\n",
    "___\n",
    "## Operaciones básicas"
   ]
  },
  {
   "cell_type": "code",
   "execution_count": 7,
   "metadata": {},
   "outputs": [
    {
     "name": "stdout",
     "output_type": "stream",
     "text": [
      "3.855\n"
     ]
    }
   ],
   "source": [
    "#Cálculo de un promedio\n",
    "\n",
    "quices=4.0\n",
    "proyectos=4.5\n",
    "parciales=3.0\n",
    "tareas=4.8\n",
    "\n",
    "notadefinitiva= quices*.15+proyectos*.35+parciales*.40+tareas*.1\n",
    "print (notadefinitiva)"
   ]
  },
  {
   "cell_type": "markdown",
   "metadata": {},
   "source": [
    "___\n",
    "## Arreglos\n",
    "En este link se puede encontrar una breve [introducción a Numpy](http://webs.ucm.es/info/aocg/python/modulos_cientificos/numpy/index.html)\n",
    "En este link se puede encontrar las [funciones de math](https://docs.python.org/2/library/math.html)"
   ]
  },
  {
   "cell_type": "code",
   "execution_count": 23,
   "metadata": {},
   "outputs": [
    {
     "name": "stdout",
     "output_type": "stream",
     "text": [
      "[ 0.          0.31415927  0.62831853  0.9424778   1.25663706  1.57079633\n",
      "  1.88495559  2.19911486  2.51327412  2.82743339  3.14159265]\n"
     ]
    }
   ],
   "source": [
    "import numpy as np\n",
    "import math\n",
    "x = np.array([0, .1*math.pi, .2*math.pi, .3*math.pi, .4*math.pi, .5*math.pi, .6*math.pi, .7*math.pi, .8*math.pi, .9*math.pi, math.pi])\n",
    "y =mat.sinprint (x)"
   ]
  }
 ],
 "metadata": {
  "kernelspec": {
   "display_name": "Python 3",
   "language": "python",
   "name": "python3"
  },
  "language_info": {
   "codemirror_mode": {
    "name": "ipython",
    "version": 3
   },
   "file_extension": ".py",
   "mimetype": "text/x-python",
   "name": "python",
   "nbconvert_exporter": "python",
   "pygments_lexer": "ipython3",
   "version": "3.6.3"
  }
 },
 "nbformat": 4,
 "nbformat_minor": 2
}
