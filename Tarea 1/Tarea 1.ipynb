{
 "cells": [
  {
   "cell_type": "markdown",
   "metadata": {},
   "source": [
    "# Tarea 1\n",
    "___\n",
    "## Operaciones básicas"
   ]
  },
  {
   "cell_type": "code",
   "execution_count": 7,
   "metadata": {},
   "outputs": [
    {
     "name": "stdout",
     "output_type": "stream",
     "text": [
      "3.855\n"
     ]
    }
   ],
   "source": [
    "#Cálculo de un promedio\n",
    "\n",
    "quices=4.0\n",
    "proyectos=4.5\n",
    "parciales=3.0\n",
    "tareas=4.8\n",
    "\n",
    "notadefinitiva= quices*.15+proyectos*.35+parciales*.40+tareas*.1\n",
    "print (notadefinitiva)"
   ]
  },
  {
   "cell_type": "markdown",
   "metadata": {},
   "source": [
    "___\n",
    "## Arreglos\n",
    "En este link se puede encontrar una breve [introducción a Numpy](http://webs.ucm.es/info/aocg/python/modulos_cientificos/numpy/index.html)\n",
    "\n",
    "En este link se puede encontrar las [funciones de math](https://docs.python.org/2/library/math.html)"
   ]
  },
  {
   "cell_type": "code",
   "execution_count": 39,
   "metadata": {},
   "outputs": [
    {
     "name": "stdout",
     "output_type": "stream",
     "text": [
      "[ 0.    0.31  0.59  0.81  0.95  1.    0.95  0.81  0.59  0.31  0.  ]\n"
     ]
    }
   ],
   "source": [
    "# Creación y manejo de arreglos\n",
    "\n",
    "import numpy as np\n",
    "import math\n",
    "x = np.array([0, .1*math.pi, .2*math.pi, .3*math.pi, .4*math.pi, .5*math.pi, .6*math.pi, .7*math.pi, .8*math.pi, .9*math.pi, math.pi])\n",
    "y = np.sin(x)\n",
    "\n",
    "# La sintaxis para el redondeo de números es: np.around(\"arreglo\",\"número de decimales\")\n",
    "print (np.around(y,2))\n",
    "\n",
    "#Generación de vectores con paso definido\n",
    "z=np.linspace(0,50,50)"
   ]
  },
  {
   "cell_type": "code",
   "execution_count": 52,
   "metadata": {},
   "outputs": [
    {
     "data": {
      "image/png": "[encoded data removed]",
      "text/plain": [
       "<matplotlib.figure.Figure at 0x16a231371d0>"
      ]
     },
     "metadata": {},
     "output_type": "display_data"
    }
   ],
   "source": [
    "# Capacidades gráficas\n",
    "\n",
    "import matplotlib.pyplot as plt\n",
    "import numpy as np\n",
    "\n",
    "x=np.linspace(0,2*np.pi,100)\n",
    "y=np.sin(x)\n",
    "plt.plot(x,y)\n",
    "plt.title('Seno')\n",
    "plt.ylabel('Salidas')\n",
    "plt.xlabel('Entradas')\n",
    "plt.show()"
   ]
  },
  {
   "cell_type": "markdown",
   "metadata": {},
   "source": [
    "---\n",
    "## Matrices"
   ]
  },
  {
   "cell_type": "code",
   "execution_count": 88,
   "metadata": {},
   "outputs": [
    {
     "data": {
      "text/plain": [
       "True"
      ]
     },
     "execution_count": 88,
     "metadata": {},
     "output_type": "execute_result"
    }
   ],
   "source": [
    "import numpy as np\n",
    "\n",
    "from numpy import matrix # Importamos matrix del módulo numpy.\n",
    "a = matrix([[1,2,3],[4,5,6],[7,8,0]])\n",
    "y = matrix([[366],[804],[351]])\n",
    "det= np.linalg.det(a)\n",
    "inv= np.linalg.inv(a)\n",
    "\n",
    "#Solucion tradicional\n",
    "x=inv*y\n",
    "\n",
    "#Función integrada para resolver sistemas lineales\n",
    "solv=np.linalg.solve(a,y)\n",
    "\n",
    "#Comprueba si dos arreglos o matrices son iguales\n",
    "np.array_equal(np.around(solv,0),np.around(x,0))"
   ]
  },
  {
   "cell_type": "markdown",
   "metadata": {},
   "source": [
    "___\n",
    "## Método estadístico para calcular \\pi\\"
   ]
  }
 ],
 "metadata": {
  "kernelspec": {
   "display_name": "Python 3",
   "language": "python",
   "name": "python3"
  },
  "language_info": {
   "codemirror_mode": {
    "name": "ipython",
    "version": 3
   },
   "file_extension": ".py",
   "mimetype": "text/x-python",
   "name": "python",
   "nbconvert_exporter": "python",
   "pygments_lexer": "ipython3",
   "version": "3.6.3"
  }
 },
 "nbformat": 4,
 "nbformat_minor": 2
}
