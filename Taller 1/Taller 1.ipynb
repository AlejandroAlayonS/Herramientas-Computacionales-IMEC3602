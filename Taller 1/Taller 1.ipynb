{
 "cells": [
  {
   "cell_type": "markdown",
   "metadata": {},
   "source": [
    "# <div style=\"text-align: center\"> Taller 1 </div>  \n",
    "<div style=\"text-align: center\"> Alejandro Alayón Suárez - 201316083</div>\n",
    "___"
   ]
  },
  {
   "cell_type": "markdown",
   "metadata": {},
   "source": [
    "<div style=\"text-align: justify\"> Para el desarrollo del presente taller se utilizó una serie de funciones auxiliares con el objetivo de facilitar la construcción de los modelos matemáticos requeridos para el cálculo de ajustes, errores e indicadores del mercado energético. Dichas funciones son explicadas con mayor detalle a continuación.</div> "
   ]
  },
  {
   "cell_type": "code",
   "execution_count": 2,
   "metadata": {},
   "outputs": [
    {
     "name": "stdout",
     "output_type": "stream",
     "text": [
      "Populating the interactive namespace from numpy and matplotlib\n"
     ]
    }
   ],
   "source": [
    "import os\n",
    "import pandas as pd\n",
    "import scipy as sp\n",
    "from scipy import stats\n",
    "%pylab inline"
   ]
  },
  {
   "cell_type": "markdown",
   "metadata": {},
   "source": [
    "<div style=\"text-align: justify\">La primer función auxiliar utilizada fue denominada **_importdata_**. Esta recibe como parámetro el nombre de la ciudad de donde se quieren importar los datos de radiación y retorna un arreglo de dos posiciones en el cual se encuentran los datos históricos del IDEAM y del NREL respectivamente. </div><br/>\n",
    "\n",
    "<div style=\"text-align: justify\"> Los datos están disponibles para las siguientes ciudades (escritas tal como aparecen en los directorios):</div>\n",
    "\n",
    "* Barranquilla\n",
    "* Cali\n",
    "* Carmendebolivar\n",
    "* Medellin\n",
    "* SantaMarta\n",
    "* Sucre\n",
    "* Uribia\n",
    "* Valledupar"
   ]
  },
  {
   "cell_type": "code",
   "execution_count": 6,
   "metadata": {},
   "outputs": [],
   "source": [
    "def importdata(ciudad):\n",
    "    \n",
    "    base_dir = os.path.join( '.','data')\n",
    "    fuente1 = 'IDEAM'\n",
    "    fuente2 = 'NREL'\n",
    "    serie_csv1 = os.path.join(base_dir,ciudad,fuente1+'.csv')\n",
    "    serie_pd1 = pd.read_csv(serie_csv1, sep = ';',\n",
    "                    encoding='latin-1')\n",
    "    serie_csv2 = os.path.join(base_dir,ciudad,fuente2+'.csv')\n",
    "    serie_pd2 = pd.read_csv(serie_csv2, sep = ';',\n",
    "                    encoding='latin-1')\n",
    "    \n",
    "    return serie_pd1, serie_pd2\n",
    "    "
   ]
  },
  {
   "cell_type": "markdown",
   "metadata": {},
   "source": [
    "<div style=\"text-align: justify\">La segunda función auxiliar utilizada fue denominada **_datapiece_**. Esta recibe como parámetros una lista de datos y dos fechas en la forma: _año inicial, año final, mes inicial, mes final, día inicial y día final_. Con base en esto, la función retorna la misma lista de datos ingresada recortada entre el intervalo de tiempo indicado. </div>"
   ]
  },
  {
   "cell_type": "code",
   "execution_count": 8,
   "metadata": {
    "collapsed": true
   },
   "outputs": [],
   "source": [
    "def datapiece(data, year1, year2, month1, month2, day1, day2):\n",
    "    piece=data[(data['AÑO']>=year1) & (data['AÑO']<=year2)\n",
    "            & (data['MES']>=month1) & (data['MES']<=month2)\n",
    "            & (data['DIA']>=day1) & (data['DIA']<=day2)]\n",
    "    return piece"
   ]
  },
  {
   "cell_type": "markdown",
   "metadata": {},
   "source": [
    "<div style=\"text-align: justify\">La tercera función auxiliar utilizada fue denominada **_datadj_**. Esta recibe como parámetros dos listas de datos y tiene como propósito ajustar el tamaño y temporalidad de la primera con respecto a la segunda. Esto permite que las listas puedan ser comparables entre si ya que la función retorna la primera lista ajustada. </div>"
   ]
  },
  {
   "cell_type": "code",
   "execution_count": 22,
   "metadata": {
    "collapsed": true
   },
   "outputs": [],
   "source": [
    "#La variable de entrada data2 es IDEAM\n",
    "def datadj(data1,data2):\n",
    "    data1_adj=data1[(data1['AÑO']>=data2.iloc[0,0]) & (data1['AÑO']<=data2.iloc[-1,0])\n",
    "            & (data1['MES']>=data2.iloc[0,1]) & (data1['MES']<=data2.iloc[-1,1])\n",
    "            & (data1['DIA']>=data2.iloc[0,2]) & (data1['DIA']<=data2.iloc[-1,2])]\n",
    "    \n",
    "    return data1_adj\n"
   ]
  },
  {
   "cell_type": "markdown",
   "metadata": {},
   "source": [
    "<div style=\"text-align: justify\">Finalmente, la cuarta función auxiliar utilizada fue denominada **_ghi__monthavg_**. Esta recibe como parámetro una lista histórica de la radiación horaría para un lugar y espacio de tiempo determinados. La función calcula el promedio de radiación diario para cada mes en [kW/día] y retorna una lista con dichos promedios para todos los años de la función original. </div> "
   ]
  },
  {
   "cell_type": "code",
   "execution_count": 9,
   "metadata": {
    "collapsed": true
   },
   "outputs": [],
   "source": [
    "def ghi_monthavg(serie_horaria):\n",
    "    agnos = sorted(serie_horaria['AÑO'].unique())\n",
    "    ghi_df = pd.DataFrame(columns=[\"AÑO\", \"MES\", \"GHIdiario\"])\n",
    "    for agno in agnos:\n",
    "        for mes in range(1,13):\n",
    "            nombre_energia = list(serie_horaria)[-1]\n",
    "            dias = sorted(serie_horaria[(serie_horaria['AÑO'] == agno) &\n",
    "                        (serie_horaria['MES'] == mes)][\"DIA\"].unique())\n",
    "            ghi_dia = serie_horaria.loc[((serie_horaria[\"AÑO\"] == agno)\n",
    "                            & (serie_horaria[\"MES\"] == mes)),\n",
    "                                        nombre_energia].sum()/(dias[-1]*1000)\n",
    "            ghi_dict = {\"AÑO\":agno, \"MES\":mes,\n",
    "                        \"GHIdiario\":ghi_dia}\n",
    "            ghi_df = ghi_df.append(ghi_dict, ignore_index=True)\n",
    "    return ghi_df"
   ]
  },
  {
   "cell_type": "markdown",
   "metadata": {},
   "source": [
    "\n",
    "### 1. Implementación de la función de energía firme para el Cargo por Confiabilidad (ENFICC)\n",
    "___\n",
    "<div style=\"text-align: justify\">Para el cálculo de la ENFICC se implementó la función mostrada a continuación. Esta recibe como parámetro una lista histórica de radiación horaría, a esta le aplica la función _ghi__monthavg_ y procede a calcular el percentil al 1% de la lista. Es decir, se obtiene el valor para el cual el 99% de los datos restantes son mayores . </div> "
   ]
  },
  {
   "cell_type": "code",
   "execution_count": 39,
   "metadata": {
    "collapsed": true
   },
   "outputs": [],
   "source": [
    "def ENFICC(data1):\n",
    "    \n",
    "    ghi_diario_loc = ghi_monthavg(data1)\n",
    "    percentil = 0.01\n",
    "    enficc = ghi_diario_loc.quantile(q=percentil, \n",
    "                                     numeric_only=True)[\"GHIdiario\"]\n",
    "\n",
    "    return enficc"
   ]
  },
  {
   "attachments": {},
   "cell_type": "markdown",
   "metadata": {},
   "source": [
    "\n",
    "### 2. Implementación de la función de graficación de la distribución de la energía promedio diaria\n",
    "___\n",
    "<div style=\"text-align: justify\">Con el objetivo de graficar la distribución del promedio de la radiación diaria para cada mes se implementó la función mostrada a continuación. Esta tiene como parámetros de entrada tres series de datos las cuales deben ser introducidas en el sigiente orden: _datos originales del IDEAM, datos ajustados del NREL y datos originales del NREL_. Si la función es utilizada adecuadamente retorna un grafico, normalizado con respeto a la primera serie, de la distribución ordenada de menor a mayor del promedio diario mes a mes para las series dadas.</div> "
   ]
  },
  {
   "cell_type": "code",
   "execution_count": 245,
   "metadata": {
    "collapsed": true
   },
   "outputs": [],
   "source": [
    "def graphED(arrayIDEAM,arrayNRELMOD,arrayNREL,Titulo):\n",
    "    \n",
    "    NRELMODadj=datadj(arrayNRELMOD,arrayIDEAM)\n",
    "    NRELadj=datadj(arrayNREL,arrayIDEAM)\n",
    "\n",
    "    ghi_diario_loc1 = ghi_monthavg(arrayIDEAM)    \n",
    "    datos_IDEAM1 = sorted(ghi_diario_loc1[\"GHIdiario\"])\n",
    "    numdatos1 = range(len(datos_IDEAM1))\n",
    "\n",
    "    ghi_diario_loc2 = ghi_monthavg(NRELMODadj)    \n",
    "    datos_IDEAM2 = sorted(ghi_diario_loc2[\"GHIdiario\"])\n",
    "    numdatos2 = range(len(datos_IDEAM2))\n",
    "\n",
    "    ghi_diario_loc3 = ghi_monthavg(NRELadj)    \n",
    "    datos_IDEAM3 = sorted(ghi_diario_loc3[\"GHIdiario\"])\n",
    "    numdatos3 = range(len(datos_IDEAM3))\n",
    "\n",
    "    pylab.xlabel(\"Datos\")\n",
    "    pylab.ylabel(\"Energía/Energía Base IDEAM\")\n",
    "    \n",
    "    pylab.plot(numdatos1,datos_IDEAM1/datos_IDEAM1[0],'-k', label='IDEAM')\n",
    "    pylab.plot(numdatos2,datos_IDEAM2/datos_IDEAM1[0],'-b', label='NRELMOD')\n",
    "    pylab.plot(numdatos3,datos_IDEAM3/datos_IDEAM1[0],'-r', label='NREL')\n",
    "        \n",
    "    pylab.legend(loc='upper left')\n",
    "    pylab.title(Titulo)\n",
    "    \n",
    "    return pylab.plot()"
   ]
  },
  {
   "cell_type": "markdown",
   "metadata": {},
   "source": [
    "\n",
    "### 3. Implementación de la función de Medicion-Correlación-Predicción (MCP)\n",
    "___\n",
    "<div style=\"text-align: justify\">Con el objetivo de ajustar una serie mediante la metodología del MCP basada en la realción de varianzas se implementó la función mostrada a continuación. Esta tiene como parámetros de entrada dos series de datos las cuales deben ser introducidas en el sigiente orden: _serie de referencia y serie corta_. Dicha función retorna una nueva serie del tamaño de la de referencia pero ajustada con respecto a la razón de las varianzas de las dos. En los comentarios incluidos dentro del cuerpo de la función se explica el fin de cada bloque de código.</div>\n"
   ]
  },
  {
   "cell_type": "code",
   "execution_count": 24,
   "metadata": {
    "collapsed": true
   },
   "outputs": [],
   "source": [
    "def MCP(data_ref,data_obj):\n",
    "    \n",
    "    #Extrae los datos de referenia en el intervalo de tiempo de los datos objetivo \n",
    "    data_ref_adj=datadj(data_ref,data_obj)\n",
    "    #Calcula los estadísticos de los datos en el periodo común\n",
    "    mu_obj=data_obj['IDEAM'].mean()\n",
    "    sigma_obj=data_obj['IDEAM'].std()\n",
    "    mu_ref=data_ref_adj['NREL'].mean()\n",
    "    sigma_ref=data_ref_adj['NREL'].std()\n",
    "    \n",
    "    #Calcula los parámetros del modelo\n",
    "    m=sigma_obj/sigma_ref\n",
    "    b=mu_obj-m*mu_ref\n",
    "    \n",
    "    #Aplica el modelo remplazando los valores negativos con 0\n",
    "    data_ref_cor=data_ref['NREL']*m+b\n",
    "    data_ref_cor[data_ref_cor < 0] = 0\n",
    "    \n",
    "    dat2 = pd.DataFrame({'NRELMOD': data_ref_cor})\n",
    "    newdata=data_ref.join(dat2['NRELMOD'])\n",
    "    \n",
    "               \n",
    "    return newdata"
   ]
  },
  {
   "cell_type": "markdown",
   "metadata": {},
   "source": [
    "\n",
    "### 4. Implementación de las funciónes de los indicadores de error RMSEn, MBE y KSI \n",
    "___\n",
    "\n",
    "<div style=\"text-align: justify\">Con el objetivo de calcular los errores entre dos series se implementaron las funciones listadas a continuación. Estas tienen como parámetros de entrada dos series de datos y dos nombres de las columnas a comparar, estas deben ser introducidas en el sigiente orden: _primera serie, nombre de la columna de la primera serie y segunda serie (usualmente IDEAM), nombre de la columna de la segunda serie_. Dichas funciónen retornan el valor del error asociado a cada par de series. La única excepción es el indicador de error KSI ya que este retorna el p-value el cual puede ser interpretado como un menos cuando su valor se acerca a 1.</div>\n"
   ]
  },
  {
   "cell_type": "code",
   "execution_count": 25,
   "metadata": {
    "collapsed": true
   },
   "outputs": [],
   "source": [
    "def RMSEn(data1,column1,data2,column2):\n",
    "    \n",
    "    #Ajusta la primera lista de datos para que concuerde con el periodo de la segunda lista\n",
    "    data1_adj=datadj(data1,data2)\n",
    "    \n",
    "    #Aplica la función de error cuadratico medio normalizado paso a paso\n",
    "    fst=(data1_adj[column1]-data2[column2])**2\n",
    "    N=len(data2.index)\n",
    "    scnd=sqrt(fst.sum()/N)\n",
    "    x_d2_max=data2[column2].max()\n",
    "    x_d2_min=data2[column2].min()\n",
    "    rmsen=scnd/(x_d2_max-x_d2_min)\n",
    "    \n",
    "    return rmsen"
   ]
  },
  {
   "cell_type": "code",
   "execution_count": 84,
   "metadata": {
    "collapsed": true
   },
   "outputs": [],
   "source": [
    "def MBE(data1,column1,data2,column2):\n",
    "    \n",
    "    #Ajusta la primera lista de datos para que concuerde con el periodo de la segunda lista\n",
    "    data1_adj=datadj(data1,data2)\n",
    "    \n",
    "    #Aplica la función de error de sesgo medio paso a paso\n",
    "    fst=(-data1_adj[column1]+data2[column2])\n",
    "    scnd=data2[column2].sum()\n",
    "    mbe=fst.sum()/scnd\n",
    "    \n",
    "    return mbe"
   ]
  },
  {
   "cell_type": "code",
   "execution_count": 27,
   "metadata": {},
   "outputs": [],
   "source": [
    "def KSI(data1,column1,data2,column2):\n",
    "    \n",
    "    #Ajusta la primera lista de datos para que concuerde con el periodo de la segunda lista\n",
    "    data1_adj=datadj(data1,data2)\n",
    "    \n",
    "    #Aplica la función de error de sesgo medio paso a paso\n",
    "    ksi=sp.stats.ks_2samp(data1_adj[column1],data2[column2])\n",
    "    return ksi[1]"
   ]
  },
  {
   "cell_type": "markdown",
   "metadata": {},
   "source": [
    "### 5. Análisis de resultados\n",
    "___\n",
    "<div style=\"text-align: justify\"> Para determinar la eficacia del metodo MCP se deben analizar los factores que influyen en la estimación de las series de tiempo. Entre estos se encuentran: la localización geográfica, el periodo de tiempo de observación y el año utilizado para dicho ajuste..</div>\n",
    "\n",
    "#### 5.1 Influencia del periodo de observación\n",
    "<br><div style=\"text-align: justify\"> Para determinar la influencia del periodo de observación se utilizó la ciudad de Barranquilla entre los años 2010 y 2014 comprendiendo periodos desde 3 hasta 9 meses. Los resultados encontrados son expuestos acontinuación .</div>"
   ]
  },
  {
   "cell_type": "code",
   "execution_count": 133,
   "metadata": {},
   "outputs": [
    {
     "data": {
      "text/html": [
       "<div>\n",
       "<style>\n",
       "    .dataframe thead tr:only-child th {\n",
       "        text-align: right;\n",
       "    }\n",
       "\n",
       "    .dataframe thead th {\n",
       "        text-align: left;\n",
       "    }\n",
       "\n",
       "    .dataframe tbody tr th {\n",
       "        vertical-align: top;\n",
       "    }\n",
       "</style>\n",
       "<table border=\"1\" class=\"dataframe\">\n",
       "  <thead>\n",
       "    <tr style=\"text-align: right;\">\n",
       "      <th></th>\n",
       "      <th>2010</th>\n",
       "      <th>Error ENFICC [%]</th>\n",
       "      <th>KSI [p-val]</th>\n",
       "      <th>MBE [%]</th>\n",
       "      <th>RMSEn [%]</th>\n",
       "    </tr>\n",
       "  </thead>\n",
       "  <tbody>\n",
       "    <tr>\n",
       "      <th>0</th>\n",
       "      <td>NREL</td>\n",
       "      <td>10.70</td>\n",
       "      <td>8.910637e-17</td>\n",
       "      <td>1.39</td>\n",
       "      <td>4.84</td>\n",
       "    </tr>\n",
       "    <tr>\n",
       "      <th>1</th>\n",
       "      <td>3 meses</td>\n",
       "      <td>2.46</td>\n",
       "      <td>4.474547e-34</td>\n",
       "      <td>2.56</td>\n",
       "      <td>4.93</td>\n",
       "    </tr>\n",
       "    <tr>\n",
       "      <th>2</th>\n",
       "      <td>6 meses</td>\n",
       "      <td>0.84</td>\n",
       "      <td>2.718893e-58</td>\n",
       "      <td>3.04</td>\n",
       "      <td>5.00</td>\n",
       "    </tr>\n",
       "    <tr>\n",
       "      <th>3</th>\n",
       "      <td>9 meses</td>\n",
       "      <td>6.50</td>\n",
       "      <td>4.013214e-13</td>\n",
       "      <td>1.97</td>\n",
       "      <td>4.88</td>\n",
       "    </tr>\n",
       "    <tr>\n",
       "      <th>4</th>\n",
       "      <td>12 meses</td>\n",
       "      <td>3.89</td>\n",
       "      <td>1.071048e-24</td>\n",
       "      <td>2.34</td>\n",
       "      <td>4.91</td>\n",
       "    </tr>\n",
       "  </tbody>\n",
       "</table>\n",
       "</div>"
      ],
      "text/plain": [
       "       2010  Error ENFICC [%]   KSI [p-val]  MBE [%]  RMSEn [%]\n",
       "0      NREL             10.70  8.910637e-17     1.39       4.84\n",
       "1   3 meses              2.46  4.474547e-34     2.56       4.93\n",
       "2   6 meses              0.84  2.718893e-58     3.04       5.00\n",
       "3   9 meses              6.50  4.013214e-13     1.97       4.88\n",
       "4  12 meses              3.89  1.071048e-24     2.34       4.91"
      ]
     },
     "execution_count": 133,
     "metadata": {},
     "output_type": "execute_result"
    }
   ],
   "source": [
    "pd.read_pickle(os.path.join(output_dir,'2010'))"
   ]
  },
  {
   "cell_type": "code",
   "execution_count": 134,
   "metadata": {},
   "outputs": [
    {
     "data": {
      "text/html": [
       "<div>\n",
       "<style>\n",
       "    .dataframe thead tr:only-child th {\n",
       "        text-align: right;\n",
       "    }\n",
       "\n",
       "    .dataframe thead th {\n",
       "        text-align: left;\n",
       "    }\n",
       "\n",
       "    .dataframe tbody tr th {\n",
       "        vertical-align: top;\n",
       "    }\n",
       "</style>\n",
       "<table border=\"1\" class=\"dataframe\">\n",
       "  <thead>\n",
       "    <tr style=\"text-align: right;\">\n",
       "      <th></th>\n",
       "      <th>2011</th>\n",
       "      <th>Error ENFICC [%]</th>\n",
       "      <th>KSI [p-val]</th>\n",
       "      <th>MBE [%]</th>\n",
       "      <th>RMSEn [%]</th>\n",
       "    </tr>\n",
       "  </thead>\n",
       "  <tbody>\n",
       "    <tr>\n",
       "      <th>0</th>\n",
       "      <td>NREL</td>\n",
       "      <td>10.70</td>\n",
       "      <td>8.910637e-17</td>\n",
       "      <td>1.39</td>\n",
       "      <td>4.84</td>\n",
       "    </tr>\n",
       "    <tr>\n",
       "      <th>1</th>\n",
       "      <td>3 meses</td>\n",
       "      <td>22.66</td>\n",
       "      <td>0.000000e+00</td>\n",
       "      <td>-0.34</td>\n",
       "      <td>4.97</td>\n",
       "    </tr>\n",
       "    <tr>\n",
       "      <th>2</th>\n",
       "      <td>6 meses</td>\n",
       "      <td>17.97</td>\n",
       "      <td>0.000000e+00</td>\n",
       "      <td>0.38</td>\n",
       "      <td>4.85</td>\n",
       "    </tr>\n",
       "    <tr>\n",
       "      <th>3</th>\n",
       "      <td>9 meses</td>\n",
       "      <td>20.09</td>\n",
       "      <td>0.000000e+00</td>\n",
       "      <td>0.04</td>\n",
       "      <td>4.91</td>\n",
       "    </tr>\n",
       "    <tr>\n",
       "      <th>4</th>\n",
       "      <td>12 meses</td>\n",
       "      <td>19.85</td>\n",
       "      <td>2.634947e-61</td>\n",
       "      <td>0.06</td>\n",
       "      <td>4.92</td>\n",
       "    </tr>\n",
       "  </tbody>\n",
       "</table>\n",
       "</div>"
      ],
      "text/plain": [
       "       2011  Error ENFICC [%]   KSI [p-val]  MBE [%]  RMSEn [%]\n",
       "0      NREL             10.70  8.910637e-17     1.39       4.84\n",
       "1   3 meses             22.66  0.000000e+00    -0.34       4.97\n",
       "2   6 meses             17.97  0.000000e+00     0.38       4.85\n",
       "3   9 meses             20.09  0.000000e+00     0.04       4.91\n",
       "4  12 meses             19.85  2.634947e-61     0.06       4.92"
      ]
     },
     "execution_count": 134,
     "metadata": {},
     "output_type": "execute_result"
    }
   ],
   "source": [
    "pd.read_pickle(os.path.join(output_dir,'2011'))"
   ]
  },
  {
   "cell_type": "code",
   "execution_count": 135,
   "metadata": {},
   "outputs": [
    {
     "data": {
      "text/html": [
       "<div>\n",
       "<style>\n",
       "    .dataframe thead tr:only-child th {\n",
       "        text-align: right;\n",
       "    }\n",
       "\n",
       "    .dataframe thead th {\n",
       "        text-align: left;\n",
       "    }\n",
       "\n",
       "    .dataframe tbody tr th {\n",
       "        vertical-align: top;\n",
       "    }\n",
       "</style>\n",
       "<table border=\"1\" class=\"dataframe\">\n",
       "  <thead>\n",
       "    <tr style=\"text-align: right;\">\n",
       "      <th></th>\n",
       "      <th>2012</th>\n",
       "      <th>Error ENFICC [%]</th>\n",
       "      <th>KSI [p-val]</th>\n",
       "      <th>MBE [%]</th>\n",
       "      <th>RMSEn [%]</th>\n",
       "    </tr>\n",
       "  </thead>\n",
       "  <tbody>\n",
       "    <tr>\n",
       "      <th>0</th>\n",
       "      <td>NREL</td>\n",
       "      <td>10.70</td>\n",
       "      <td>8.910637e-17</td>\n",
       "      <td>1.39</td>\n",
       "      <td>4.84</td>\n",
       "    </tr>\n",
       "    <tr>\n",
       "      <th>1</th>\n",
       "      <td>3 meses</td>\n",
       "      <td>16.84</td>\n",
       "      <td>0.000000e+00</td>\n",
       "      <td>0.52</td>\n",
       "      <td>4.86</td>\n",
       "    </tr>\n",
       "    <tr>\n",
       "      <th>2</th>\n",
       "      <td>6 meses</td>\n",
       "      <td>11.99</td>\n",
       "      <td>8.289425e-23</td>\n",
       "      <td>1.17</td>\n",
       "      <td>4.86</td>\n",
       "    </tr>\n",
       "    <tr>\n",
       "      <th>3</th>\n",
       "      <td>9 meses</td>\n",
       "      <td>10.81</td>\n",
       "      <td>5.496246e-19</td>\n",
       "      <td>1.33</td>\n",
       "      <td>4.86</td>\n",
       "    </tr>\n",
       "    <tr>\n",
       "      <th>4</th>\n",
       "      <td>12 meses</td>\n",
       "      <td>5.31</td>\n",
       "      <td>1.846041e-19</td>\n",
       "      <td>2.11</td>\n",
       "      <td>4.90</td>\n",
       "    </tr>\n",
       "  </tbody>\n",
       "</table>\n",
       "</div>"
      ],
      "text/plain": [
       "       2012  Error ENFICC [%]   KSI [p-val]  MBE [%]  RMSEn [%]\n",
       "0      NREL             10.70  8.910637e-17     1.39       4.84\n",
       "1   3 meses             16.84  0.000000e+00     0.52       4.86\n",
       "2   6 meses             11.99  8.289425e-23     1.17       4.86\n",
       "3   9 meses             10.81  5.496246e-19     1.33       4.86\n",
       "4  12 meses              5.31  1.846041e-19     2.11       4.90"
      ]
     },
     "execution_count": 135,
     "metadata": {},
     "output_type": "execute_result"
    }
   ],
   "source": [
    "pd.read_pickle(os.path.join(output_dir,'2012'))"
   ]
  },
  {
   "cell_type": "code",
   "execution_count": 136,
   "metadata": {},
   "outputs": [
    {
     "data": {
      "text/html": [
       "<div>\n",
       "<style>\n",
       "    .dataframe thead tr:only-child th {\n",
       "        text-align: right;\n",
       "    }\n",
       "\n",
       "    .dataframe thead th {\n",
       "        text-align: left;\n",
       "    }\n",
       "\n",
       "    .dataframe tbody tr th {\n",
       "        vertical-align: top;\n",
       "    }\n",
       "</style>\n",
       "<table border=\"1\" class=\"dataframe\">\n",
       "  <thead>\n",
       "    <tr style=\"text-align: right;\">\n",
       "      <th></th>\n",
       "      <th>2013</th>\n",
       "      <th>Error ENFICC [%]</th>\n",
       "      <th>KSI [p-val]</th>\n",
       "      <th>MBE [%]</th>\n",
       "      <th>RMSEn [%]</th>\n",
       "    </tr>\n",
       "  </thead>\n",
       "  <tbody>\n",
       "    <tr>\n",
       "      <th>0</th>\n",
       "      <td>NREL</td>\n",
       "      <td>10.70</td>\n",
       "      <td>8.910637e-17</td>\n",
       "      <td>1.39</td>\n",
       "      <td>4.84</td>\n",
       "    </tr>\n",
       "    <tr>\n",
       "      <th>1</th>\n",
       "      <td>3 meses</td>\n",
       "      <td>14.83</td>\n",
       "      <td>1.141934e-41</td>\n",
       "      <td>0.68</td>\n",
       "      <td>4.93</td>\n",
       "    </tr>\n",
       "    <tr>\n",
       "      <th>2</th>\n",
       "      <td>6 meses</td>\n",
       "      <td>9.28</td>\n",
       "      <td>1.576333e-20</td>\n",
       "      <td>1.52</td>\n",
       "      <td>4.88</td>\n",
       "    </tr>\n",
       "    <tr>\n",
       "      <th>3</th>\n",
       "      <td>9 meses</td>\n",
       "      <td>12.56</td>\n",
       "      <td>3.656569e-26</td>\n",
       "      <td>1.08</td>\n",
       "      <td>4.87</td>\n",
       "    </tr>\n",
       "    <tr>\n",
       "      <th>4</th>\n",
       "      <td>12 meses</td>\n",
       "      <td>12.81</td>\n",
       "      <td>6.291686e-27</td>\n",
       "      <td>1.05</td>\n",
       "      <td>4.86</td>\n",
       "    </tr>\n",
       "  </tbody>\n",
       "</table>\n",
       "</div>"
      ],
      "text/plain": [
       "       2013  Error ENFICC [%]   KSI [p-val]  MBE [%]  RMSEn [%]\n",
       "0      NREL             10.70  8.910637e-17     1.39       4.84\n",
       "1   3 meses             14.83  1.141934e-41     0.68       4.93\n",
       "2   6 meses              9.28  1.576333e-20     1.52       4.88\n",
       "3   9 meses             12.56  3.656569e-26     1.08       4.87\n",
       "4  12 meses             12.81  6.291686e-27     1.05       4.86"
      ]
     },
     "execution_count": 136,
     "metadata": {},
     "output_type": "execute_result"
    }
   ],
   "source": [
    "pd.read_pickle(os.path.join(output_dir,'2013'))"
   ]
  },
  {
   "cell_type": "code",
   "execution_count": 153,
   "metadata": {},
   "outputs": [
    {
     "data": {
      "text/html": [
       "<div>\n",
       "<style>\n",
       "    .dataframe thead tr:only-child th {\n",
       "        text-align: right;\n",
       "    }\n",
       "\n",
       "    .dataframe thead th {\n",
       "        text-align: left;\n",
       "    }\n",
       "\n",
       "    .dataframe tbody tr th {\n",
       "        vertical-align: top;\n",
       "    }\n",
       "</style>\n",
       "<table border=\"1\" class=\"dataframe\">\n",
       "  <thead>\n",
       "    <tr style=\"text-align: right;\">\n",
       "      <th></th>\n",
       "      <th>2014</th>\n",
       "      <th>Error ENFICC [%]</th>\n",
       "      <th>KSI [p-val]</th>\n",
       "      <th>MBE [%]</th>\n",
       "      <th>RMSEn [%]</th>\n",
       "    </tr>\n",
       "  </thead>\n",
       "  <tbody>\n",
       "    <tr>\n",
       "      <th>0</th>\n",
       "      <td>NREL</td>\n",
       "      <td>10.70</td>\n",
       "      <td>8.910637e-17</td>\n",
       "      <td>1.39</td>\n",
       "      <td>4.84</td>\n",
       "    </tr>\n",
       "    <tr>\n",
       "      <th>1</th>\n",
       "      <td>3 meses</td>\n",
       "      <td>11.23</td>\n",
       "      <td>3.205812e-20</td>\n",
       "      <td>1.28</td>\n",
       "      <td>4.86</td>\n",
       "    </tr>\n",
       "    <tr>\n",
       "      <th>2</th>\n",
       "      <td>6 meses</td>\n",
       "      <td>5.05</td>\n",
       "      <td>1.576333e-20</td>\n",
       "      <td>2.14</td>\n",
       "      <td>4.91</td>\n",
       "    </tr>\n",
       "    <tr>\n",
       "      <th>3</th>\n",
       "      <td>9 meses</td>\n",
       "      <td>1.41</td>\n",
       "      <td>2.673961e-31</td>\n",
       "      <td>2.66</td>\n",
       "      <td>4.96</td>\n",
       "    </tr>\n",
       "    <tr>\n",
       "      <th>4</th>\n",
       "      <td>12 meses</td>\n",
       "      <td>1.75</td>\n",
       "      <td>3.193386e-30</td>\n",
       "      <td>2.61</td>\n",
       "      <td>4.95</td>\n",
       "    </tr>\n",
       "  </tbody>\n",
       "</table>\n",
       "</div>"
      ],
      "text/plain": [
       "       2014  Error ENFICC [%]   KSI [p-val]  MBE [%]  RMSEn [%]\n",
       "0      NREL             10.70  8.910637e-17     1.39       4.84\n",
       "1   3 meses             11.23  3.205812e-20     1.28       4.86\n",
       "2   6 meses              5.05  1.576333e-20     2.14       4.91\n",
       "3   9 meses              1.41  2.673961e-31     2.66       4.96\n",
       "4  12 meses              1.75  3.193386e-30     2.61       4.95"
      ]
     },
     "execution_count": 153,
     "metadata": {},
     "output_type": "execute_result"
    }
   ],
   "source": [
    "pd.read_pickle(os.path.join(output_dir,'2014'))"
   ]
  },
  {
   "cell_type": "markdown",
   "metadata": {},
   "source": [
    "<div style=\"text-align: justify\"> La primera fila de las tablas indica el error porcentual de la serie del NREL con respecto a la del IDEAM. Las filas siguientes son los errores de las series tomando diferentes tramos de tiempo para el ajuste MCP. Es evidenciable (en la mayoría de los casos) que entre mayor sea el periodo de tiempo observado el error en el ENFICC disminuye, esto era de esperarse ya que el MCP tiene un mayor número de datos para trabajar y por ende produce una estimación más acertada. Por facilidad se considera que un año de datos observados es adecuado para el ajuste ya que puede disminuir el error en el cálculo del ENFICC hasta un valor de 1.75%. Ahora bien, los casos en los cuales el error es mayor a medida que aumenta el tiempo observado pueden deberse a externalidades climáticas propias de dichos años.</div><br>\n",
    "\n",
    "<div style=\"text-align: justify\"> Con respecto a los demás errores se puede ver que su valor (el cual se puede considerar pequeño) no varía significativamente entre periodos de tiempo de observación, esto quiere decir que debido a que estos errores son calculados punto a punto un valor de temporalidad diferente no afecta directamente el promedio de dichos errores si no, la distribución en general de la serie. Esto explica no solamente porqué disminuye el ENFICC, sino también el comportamiento del KSI.</div> \n"
   ]
  },
  {
   "cell_type": "markdown",
   "metadata": {},
   "source": [
    "#### 5.2 Influencia del año de observación\n",
    "<br><div style=\"text-align: justify\"> Para determinar la influencia del año de observación se utilizaron las ciudades de Cali, Medellin y Santa Marta entre los años 2008 y 2015 con periodos de un año de observación. En ellas se calculó el error del cálculo del ENFICC con respecto a la serie reportada por el IDEAM.</div>\n"
   ]
  },
  {
   "cell_type": "code",
   "execution_count": 212,
   "metadata": {},
   "outputs": [
    {
     "data": {
      "text/html": [
       "<div>\n",
       "<style>\n",
       "    .dataframe thead tr:only-child th {\n",
       "        text-align: right;\n",
       "    }\n",
       "\n",
       "    .dataframe thead th {\n",
       "        text-align: left;\n",
       "    }\n",
       "\n",
       "    .dataframe tbody tr th {\n",
       "        vertical-align: top;\n",
       "    }\n",
       "</style>\n",
       "<table border=\"1\" class=\"dataframe\">\n",
       "  <thead>\n",
       "    <tr style=\"text-align: right;\">\n",
       "      <th></th>\n",
       "      <th>2008</th>\n",
       "      <th>Cali</th>\n",
       "      <th>Medellin</th>\n",
       "      <th>Santa Marta</th>\n",
       "    </tr>\n",
       "  </thead>\n",
       "  <tbody>\n",
       "    <tr>\n",
       "      <th>0</th>\n",
       "      <td>Error ENFICC NREL [%]</td>\n",
       "      <td>30.93</td>\n",
       "      <td>22.37</td>\n",
       "      <td>12.26</td>\n",
       "    </tr>\n",
       "    <tr>\n",
       "      <th>1</th>\n",
       "      <td>Error ENFIC NRELMOD [%]</td>\n",
       "      <td>10.21</td>\n",
       "      <td>2.14</td>\n",
       "      <td>3.10</td>\n",
       "    </tr>\n",
       "    <tr>\n",
       "      <th>2</th>\n",
       "      <td>Disminución del error [%]</td>\n",
       "      <td>20.72</td>\n",
       "      <td>20.23</td>\n",
       "      <td>9.16</td>\n",
       "    </tr>\n",
       "  </tbody>\n",
       "</table>\n",
       "</div>"
      ],
      "text/plain": [
       "                        2008   Cali  Medellin  Santa Marta\n",
       "0      Error ENFICC NREL [%]  30.93     22.37        12.26\n",
       "1    Error ENFIC NRELMOD [%]  10.21      2.14         3.10\n",
       "2  Disminución del error [%]  20.72     20.23         9.16"
      ]
     },
     "execution_count": 212,
     "metadata": {},
     "output_type": "execute_result"
    }
   ],
   "source": [
    "pd.read_pickle(os.path.join(output_dir,'2008_2'))"
   ]
  },
  {
   "cell_type": "code",
   "execution_count": 213,
   "metadata": {},
   "outputs": [
    {
     "data": {
      "text/html": [
       "<div>\n",
       "<style>\n",
       "    .dataframe thead tr:only-child th {\n",
       "        text-align: right;\n",
       "    }\n",
       "\n",
       "    .dataframe thead th {\n",
       "        text-align: left;\n",
       "    }\n",
       "\n",
       "    .dataframe tbody tr th {\n",
       "        vertical-align: top;\n",
       "    }\n",
       "</style>\n",
       "<table border=\"1\" class=\"dataframe\">\n",
       "  <thead>\n",
       "    <tr style=\"text-align: right;\">\n",
       "      <th></th>\n",
       "      <th>2009</th>\n",
       "      <th>Cali</th>\n",
       "      <th>Medellin</th>\n",
       "      <th>Santa Marta</th>\n",
       "    </tr>\n",
       "  </thead>\n",
       "  <tbody>\n",
       "    <tr>\n",
       "      <th>0</th>\n",
       "      <td>Error ENFICC NREL [%]</td>\n",
       "      <td>30.93</td>\n",
       "      <td>22.37</td>\n",
       "      <td>12.26</td>\n",
       "    </tr>\n",
       "    <tr>\n",
       "      <th>1</th>\n",
       "      <td>Error ENFIC NRELMOD [%]</td>\n",
       "      <td>7.30</td>\n",
       "      <td>4.63</td>\n",
       "      <td>0.61</td>\n",
       "    </tr>\n",
       "    <tr>\n",
       "      <th>2</th>\n",
       "      <td>Disminución del error [%]</td>\n",
       "      <td>23.63</td>\n",
       "      <td>17.74</td>\n",
       "      <td>11.65</td>\n",
       "    </tr>\n",
       "  </tbody>\n",
       "</table>\n",
       "</div>"
      ],
      "text/plain": [
       "                        2009   Cali  Medellin  Santa Marta\n",
       "0      Error ENFICC NREL [%]  30.93     22.37        12.26\n",
       "1    Error ENFIC NRELMOD [%]   7.30      4.63         0.61\n",
       "2  Disminución del error [%]  23.63     17.74        11.65"
      ]
     },
     "execution_count": 213,
     "metadata": {},
     "output_type": "execute_result"
    }
   ],
   "source": [
    "pd.read_pickle(os.path.join(output_dir,'2009_2'))"
   ]
  },
  {
   "cell_type": "code",
   "execution_count": 214,
   "metadata": {},
   "outputs": [
    {
     "data": {
      "text/html": [
       "<div>\n",
       "<style>\n",
       "    .dataframe thead tr:only-child th {\n",
       "        text-align: right;\n",
       "    }\n",
       "\n",
       "    .dataframe thead th {\n",
       "        text-align: left;\n",
       "    }\n",
       "\n",
       "    .dataframe tbody tr th {\n",
       "        vertical-align: top;\n",
       "    }\n",
       "</style>\n",
       "<table border=\"1\" class=\"dataframe\">\n",
       "  <thead>\n",
       "    <tr style=\"text-align: right;\">\n",
       "      <th></th>\n",
       "      <th>2010</th>\n",
       "      <th>Cali</th>\n",
       "      <th>Medellin</th>\n",
       "      <th>Santa Marta</th>\n",
       "    </tr>\n",
       "  </thead>\n",
       "  <tbody>\n",
       "    <tr>\n",
       "      <th>0</th>\n",
       "      <td>Error ENFICC NREL [%]</td>\n",
       "      <td>30.93</td>\n",
       "      <td>22.37</td>\n",
       "      <td>12.26</td>\n",
       "    </tr>\n",
       "    <tr>\n",
       "      <th>1</th>\n",
       "      <td>Error ENFIC NRELMOD [%]</td>\n",
       "      <td>8.59</td>\n",
       "      <td>3.43</td>\n",
       "      <td>1.70</td>\n",
       "    </tr>\n",
       "    <tr>\n",
       "      <th>2</th>\n",
       "      <td>Disminución del error [%]</td>\n",
       "      <td>22.34</td>\n",
       "      <td>18.94</td>\n",
       "      <td>10.56</td>\n",
       "    </tr>\n",
       "  </tbody>\n",
       "</table>\n",
       "</div>"
      ],
      "text/plain": [
       "                        2010   Cali  Medellin  Santa Marta\n",
       "0      Error ENFICC NREL [%]  30.93     22.37        12.26\n",
       "1    Error ENFIC NRELMOD [%]   8.59      3.43         1.70\n",
       "2  Disminución del error [%]  22.34     18.94        10.56"
      ]
     },
     "execution_count": 214,
     "metadata": {},
     "output_type": "execute_result"
    }
   ],
   "source": [
    "pd.read_pickle(os.path.join(output_dir,'2010_2'))"
   ]
  },
  {
   "cell_type": "code",
   "execution_count": 215,
   "metadata": {},
   "outputs": [
    {
     "data": {
      "text/html": [
       "<div>\n",
       "<style>\n",
       "    .dataframe thead tr:only-child th {\n",
       "        text-align: right;\n",
       "    }\n",
       "\n",
       "    .dataframe thead th {\n",
       "        text-align: left;\n",
       "    }\n",
       "\n",
       "    .dataframe tbody tr th {\n",
       "        vertical-align: top;\n",
       "    }\n",
       "</style>\n",
       "<table border=\"1\" class=\"dataframe\">\n",
       "  <thead>\n",
       "    <tr style=\"text-align: right;\">\n",
       "      <th></th>\n",
       "      <th>2011</th>\n",
       "      <th>Cali</th>\n",
       "      <th>Medellin</th>\n",
       "      <th>Santa Marta</th>\n",
       "    </tr>\n",
       "  </thead>\n",
       "  <tbody>\n",
       "    <tr>\n",
       "      <th>0</th>\n",
       "      <td>Error ENFICC NREL [%]</td>\n",
       "      <td>30.93</td>\n",
       "      <td>22.37</td>\n",
       "      <td>12.26</td>\n",
       "    </tr>\n",
       "    <tr>\n",
       "      <th>1</th>\n",
       "      <td>Error ENFIC NRELMOD [%]</td>\n",
       "      <td>6.61</td>\n",
       "      <td>4.79</td>\n",
       "      <td>15.93</td>\n",
       "    </tr>\n",
       "    <tr>\n",
       "      <th>2</th>\n",
       "      <td>Disminución del error [%]</td>\n",
       "      <td>24.32</td>\n",
       "      <td>17.58</td>\n",
       "      <td>-3.67</td>\n",
       "    </tr>\n",
       "  </tbody>\n",
       "</table>\n",
       "</div>"
      ],
      "text/plain": [
       "                        2011   Cali  Medellin  Santa Marta\n",
       "0      Error ENFICC NREL [%]  30.93     22.37        12.26\n",
       "1    Error ENFIC NRELMOD [%]   6.61      4.79        15.93\n",
       "2  Disminución del error [%]  24.32     17.58        -3.67"
      ]
     },
     "execution_count": 215,
     "metadata": {},
     "output_type": "execute_result"
    }
   ],
   "source": [
    "pd.read_pickle(os.path.join(output_dir,'2011_2'))"
   ]
  },
  {
   "cell_type": "code",
   "execution_count": 216,
   "metadata": {},
   "outputs": [
    {
     "data": {
      "text/html": [
       "<div>\n",
       "<style>\n",
       "    .dataframe thead tr:only-child th {\n",
       "        text-align: right;\n",
       "    }\n",
       "\n",
       "    .dataframe thead th {\n",
       "        text-align: left;\n",
       "    }\n",
       "\n",
       "    .dataframe tbody tr th {\n",
       "        vertical-align: top;\n",
       "    }\n",
       "</style>\n",
       "<table border=\"1\" class=\"dataframe\">\n",
       "  <thead>\n",
       "    <tr style=\"text-align: right;\">\n",
       "      <th></th>\n",
       "      <th>2012</th>\n",
       "      <th>Cali</th>\n",
       "      <th>Medellin</th>\n",
       "      <th>Santa Marta</th>\n",
       "    </tr>\n",
       "  </thead>\n",
       "  <tbody>\n",
       "    <tr>\n",
       "      <th>0</th>\n",
       "      <td>Error ENFICC NREL [%]</td>\n",
       "      <td>30.93</td>\n",
       "      <td>22.37</td>\n",
       "      <td>12.26</td>\n",
       "    </tr>\n",
       "    <tr>\n",
       "      <th>1</th>\n",
       "      <td>Error ENFIC NRELMOD [%]</td>\n",
       "      <td>10.43</td>\n",
       "      <td>5.27</td>\n",
       "      <td>4.21</td>\n",
       "    </tr>\n",
       "    <tr>\n",
       "      <th>2</th>\n",
       "      <td>Disminución del error [%]</td>\n",
       "      <td>20.50</td>\n",
       "      <td>17.10</td>\n",
       "      <td>8.05</td>\n",
       "    </tr>\n",
       "  </tbody>\n",
       "</table>\n",
       "</div>"
      ],
      "text/plain": [
       "                        2012   Cali  Medellin  Santa Marta\n",
       "0      Error ENFICC NREL [%]  30.93     22.37        12.26\n",
       "1    Error ENFIC NRELMOD [%]  10.43      5.27         4.21\n",
       "2  Disminución del error [%]  20.50     17.10         8.05"
      ]
     },
     "execution_count": 216,
     "metadata": {},
     "output_type": "execute_result"
    }
   ],
   "source": [
    "pd.read_pickle(os.path.join(output_dir,'2012_2'))"
   ]
  },
  {
   "cell_type": "code",
   "execution_count": 218,
   "metadata": {},
   "outputs": [
    {
     "data": {
      "text/html": [
       "<div>\n",
       "<style>\n",
       "    .dataframe thead tr:only-child th {\n",
       "        text-align: right;\n",
       "    }\n",
       "\n",
       "    .dataframe thead th {\n",
       "        text-align: left;\n",
       "    }\n",
       "\n",
       "    .dataframe tbody tr th {\n",
       "        vertical-align: top;\n",
       "    }\n",
       "</style>\n",
       "<table border=\"1\" class=\"dataframe\">\n",
       "  <thead>\n",
       "    <tr style=\"text-align: right;\">\n",
       "      <th></th>\n",
       "      <th>2013</th>\n",
       "      <th>Cali</th>\n",
       "      <th>Medellin</th>\n",
       "      <th>Santa Marta</th>\n",
       "    </tr>\n",
       "  </thead>\n",
       "  <tbody>\n",
       "    <tr>\n",
       "      <th>0</th>\n",
       "      <td>Error ENFICC NREL [%]</td>\n",
       "      <td>30.93</td>\n",
       "      <td>22.37</td>\n",
       "      <td>12.26</td>\n",
       "    </tr>\n",
       "    <tr>\n",
       "      <th>1</th>\n",
       "      <td>Error ENFIC NRELMOD [%]</td>\n",
       "      <td>7.10</td>\n",
       "      <td>1.62</td>\n",
       "      <td>6.91</td>\n",
       "    </tr>\n",
       "    <tr>\n",
       "      <th>2</th>\n",
       "      <td>Disminución del error [%]</td>\n",
       "      <td>23.83</td>\n",
       "      <td>20.75</td>\n",
       "      <td>5.35</td>\n",
       "    </tr>\n",
       "  </tbody>\n",
       "</table>\n",
       "</div>"
      ],
      "text/plain": [
       "                        2013   Cali  Medellin  Santa Marta\n",
       "0      Error ENFICC NREL [%]  30.93     22.37        12.26\n",
       "1    Error ENFIC NRELMOD [%]   7.10      1.62         6.91\n",
       "2  Disminución del error [%]  23.83     20.75         5.35"
      ]
     },
     "execution_count": 218,
     "metadata": {},
     "output_type": "execute_result"
    }
   ],
   "source": [
    "pd.read_pickle(os.path.join(output_dir,'2013_2'))"
   ]
  },
  {
   "cell_type": "code",
   "execution_count": 219,
   "metadata": {},
   "outputs": [
    {
     "data": {
      "text/html": [
       "<div>\n",
       "<style>\n",
       "    .dataframe thead tr:only-child th {\n",
       "        text-align: right;\n",
       "    }\n",
       "\n",
       "    .dataframe thead th {\n",
       "        text-align: left;\n",
       "    }\n",
       "\n",
       "    .dataframe tbody tr th {\n",
       "        vertical-align: top;\n",
       "    }\n",
       "</style>\n",
       "<table border=\"1\" class=\"dataframe\">\n",
       "  <thead>\n",
       "    <tr style=\"text-align: right;\">\n",
       "      <th></th>\n",
       "      <th>2014</th>\n",
       "      <th>Cali</th>\n",
       "      <th>Medellin</th>\n",
       "      <th>Santa Marta</th>\n",
       "    </tr>\n",
       "  </thead>\n",
       "  <tbody>\n",
       "    <tr>\n",
       "      <th>0</th>\n",
       "      <td>Error ENFICC NREL [%]</td>\n",
       "      <td>30.93</td>\n",
       "      <td>22.37</td>\n",
       "      <td>12.26</td>\n",
       "    </tr>\n",
       "    <tr>\n",
       "      <th>1</th>\n",
       "      <td>Error ENFIC NRELMOD [%]</td>\n",
       "      <td>9.75</td>\n",
       "      <td>2.48</td>\n",
       "      <td>14.63</td>\n",
       "    </tr>\n",
       "    <tr>\n",
       "      <th>2</th>\n",
       "      <td>Disminución del error [%]</td>\n",
       "      <td>21.18</td>\n",
       "      <td>19.89</td>\n",
       "      <td>-2.37</td>\n",
       "    </tr>\n",
       "  </tbody>\n",
       "</table>\n",
       "</div>"
      ],
      "text/plain": [
       "                        2014   Cali  Medellin  Santa Marta\n",
       "0      Error ENFICC NREL [%]  30.93     22.37        12.26\n",
       "1    Error ENFIC NRELMOD [%]   9.75      2.48        14.63\n",
       "2  Disminución del error [%]  21.18     19.89        -2.37"
      ]
     },
     "execution_count": 219,
     "metadata": {},
     "output_type": "execute_result"
    }
   ],
   "source": [
    "pd.read_pickle(os.path.join(output_dir,'2014_2'))"
   ]
  },
  {
   "cell_type": "code",
   "execution_count": 224,
   "metadata": {},
   "outputs": [
    {
     "data": {
      "text/html": [
       "<div>\n",
       "<style>\n",
       "    .dataframe thead tr:only-child th {\n",
       "        text-align: right;\n",
       "    }\n",
       "\n",
       "    .dataframe thead th {\n",
       "        text-align: left;\n",
       "    }\n",
       "\n",
       "    .dataframe tbody tr th {\n",
       "        vertical-align: top;\n",
       "    }\n",
       "</style>\n",
       "<table border=\"1\" class=\"dataframe\">\n",
       "  <thead>\n",
       "    <tr style=\"text-align: right;\">\n",
       "      <th></th>\n",
       "      <th>2015</th>\n",
       "      <th>Cali</th>\n",
       "      <th>Medellin</th>\n",
       "      <th>Santa Marta</th>\n",
       "    </tr>\n",
       "  </thead>\n",
       "  <tbody>\n",
       "    <tr>\n",
       "      <th>0</th>\n",
       "      <td>Error ENFICC NREL [%]</td>\n",
       "      <td>30.93</td>\n",
       "      <td>22.37</td>\n",
       "      <td>12.26</td>\n",
       "    </tr>\n",
       "    <tr>\n",
       "      <th>1</th>\n",
       "      <td>Error ENFIC NRELMOD [%]</td>\n",
       "      <td>16.70</td>\n",
       "      <td>19.16</td>\n",
       "      <td>18.19</td>\n",
       "    </tr>\n",
       "    <tr>\n",
       "      <th>2</th>\n",
       "      <td>Disminución del error [%]</td>\n",
       "      <td>14.23</td>\n",
       "      <td>3.21</td>\n",
       "      <td>-5.93</td>\n",
       "    </tr>\n",
       "  </tbody>\n",
       "</table>\n",
       "</div>"
      ],
      "text/plain": [
       "                        2015   Cali  Medellin  Santa Marta\n",
       "0      Error ENFICC NREL [%]  30.93     22.37        12.26\n",
       "1    Error ENFIC NRELMOD [%]  16.70     19.16        18.19\n",
       "2  Disminución del error [%]  14.23      3.21        -5.93"
      ]
     },
     "execution_count": 224,
     "metadata": {},
     "output_type": "execute_result"
    }
   ],
   "source": [
    "pd.read_pickle(os.path.join(output_dir,'2015_2'))"
   ]
  },
  {
   "cell_type": "markdown",
   "metadata": {},
   "source": [
    "<div style=\"text-align: justify\"> Tal como se aprecia en las tablas anteriores, el año utilizado para el ajuste influye ampliamente en la disminución del error al aplicar el MCP, esto se debe a los fenómenos climáticos de periodicidad no anual tal como lo son el fenómeno de la Niña y el Niño. Sin embargo vale resaltar que tanto para la mayoría de los años, como para la mayoría de las ciudades analizadas el MCP permite una diminución en el error del cálculo de la ENFICC lo que valida el uso de la herramienta.</div>"
   ]
  },
  {
   "cell_type": "markdown",
   "metadata": {},
   "source": [
    "#### 5.3 Influencia de la localización\n",
    "<br><div style=\"text-align: justify\"> Para determinar la influencia de la localización geográfica se utilizaron los datos observados duarante el año 2013 (libre del fenómeno de la Niña y el Niño) para todas las ciudades disponibles.</div>"
   ]
  },
  {
   "cell_type": "code",
   "execution_count": 236,
   "metadata": {},
   "outputs": [
    {
     "data": {
      "text/html": [
       "<div>\n",
       "<style>\n",
       "    .dataframe thead tr:only-child th {\n",
       "        text-align: right;\n",
       "    }\n",
       "\n",
       "    .dataframe thead th {\n",
       "        text-align: left;\n",
       "    }\n",
       "\n",
       "    .dataframe tbody tr th {\n",
       "        vertical-align: top;\n",
       "    }\n",
       "</style>\n",
       "<table border=\"1\" class=\"dataframe\">\n",
       "  <thead>\n",
       "    <tr style=\"text-align: right;\">\n",
       "      <th></th>\n",
       "      <th>2013</th>\n",
       "      <th>Barranquilla</th>\n",
       "      <th>Cali</th>\n",
       "      <th>Carmen de Bolivar</th>\n",
       "      <th>Medellin</th>\n",
       "      <th>Santa Marta</th>\n",
       "      <th>Sucre</th>\n",
       "      <th>Uribia</th>\n",
       "      <th>Valledupar</th>\n",
       "    </tr>\n",
       "  </thead>\n",
       "  <tbody>\n",
       "    <tr>\n",
       "      <th>0</th>\n",
       "      <td>Error ENFICC NREL [%]</td>\n",
       "      <td>10.70</td>\n",
       "      <td>30.93</td>\n",
       "      <td>5.14</td>\n",
       "      <td>22.37</td>\n",
       "      <td>12.26</td>\n",
       "      <td>103.39</td>\n",
       "      <td>7.95</td>\n",
       "      <td>10.80</td>\n",
       "    </tr>\n",
       "    <tr>\n",
       "      <th>1</th>\n",
       "      <td>Error ENFIC NRELMOD [%]</td>\n",
       "      <td>11.36</td>\n",
       "      <td>7.10</td>\n",
       "      <td>7.08</td>\n",
       "      <td>1.62</td>\n",
       "      <td>6.91</td>\n",
       "      <td>48.37</td>\n",
       "      <td>1.17</td>\n",
       "      <td>7.58</td>\n",
       "    </tr>\n",
       "    <tr>\n",
       "      <th>2</th>\n",
       "      <td>Disminución del error [%]</td>\n",
       "      <td>-0.66</td>\n",
       "      <td>23.83</td>\n",
       "      <td>-1.94</td>\n",
       "      <td>20.75</td>\n",
       "      <td>5.35</td>\n",
       "      <td>55.02</td>\n",
       "      <td>6.78</td>\n",
       "      <td>3.22</td>\n",
       "    </tr>\n",
       "  </tbody>\n",
       "</table>\n",
       "</div>"
      ],
      "text/plain": [
       "                        2013  Barranquilla   Cali  Carmen de Bolivar  \\\n",
       "0      Error ENFICC NREL [%]         10.70  30.93               5.14   \n",
       "1    Error ENFIC NRELMOD [%]         11.36   7.10               7.08   \n",
       "2  Disminución del error [%]         -0.66  23.83              -1.94   \n",
       "\n",
       "   Medellin  Santa Marta   Sucre  Uribia  Valledupar  \n",
       "0     22.37        12.26  103.39    7.95       10.80  \n",
       "1      1.62         6.91   48.37    1.17        7.58  \n",
       "2     20.75         5.35   55.02    6.78        3.22  "
      ]
     },
     "execution_count": 236,
     "metadata": {},
     "output_type": "execute_result"
    }
   ],
   "source": [
    "pd.read_pickle(os.path.join(output_dir,'2013_3'))"
   ]
  },
  {
   "cell_type": "code",
   "execution_count": 247,
   "metadata": {},
   "outputs": [
    {
     "data": {
      "text/plain": [
       "[]"
      ]
     },
     "execution_count": 247,
     "metadata": {},
     "output_type": "execute_result"
    },
    {
     "data": {
      "image/png": "[encoded data removed]",
      "text/plain": [
       "<matplotlib.figure.Figure at 0x1cece61bb38>"
      ]
     },
     "metadata": {},
     "output_type": "display_data"
    }
   ],
   "source": [
    "graphED(IDEAM_CLO,NRELMOD_CLO_12MO,NREL_CLO,'Cali')"
   ]
  },
  {
   "cell_type": "code",
   "execution_count": 250,
   "metadata": {},
   "outputs": [
    {
     "data": {
      "text/plain": [
       "[]"
      ]
     },
     "execution_count": 250,
     "metadata": {},
     "output_type": "execute_result"
    },
    {
     "data": {
      "image/png": "[encoded data removed]",
      "text/plain": [
       "<matplotlib.figure.Figure at 0x1cec68ddba8>"
      ]
     },
     "metadata": {},
     "output_type": "display_data"
    }
   ],
   "source": [
    "graphED(IDEAM_CZU,NRELMOD_CZU_12MO,NREL_CZU,'Sucre')"
   ]
  },
  {
   "cell_type": "code",
   "execution_count": 249,
   "metadata": {},
   "outputs": [
    {
     "data": {
      "text/plain": [
       "[]"
      ]
     },
     "execution_count": 249,
     "metadata": {},
     "output_type": "execute_result"
    },
    {
     "data": {
      "image/png": "[encoded data removed]",
      "text/plain": [
       "<matplotlib.figure.Figure at 0x1cec6922710>"
      ]
     },
     "metadata": {},
     "output_type": "display_data"
    }
   ],
   "source": [
    "graphED(IDEAM_BAQ,NRELMOD_BAQ_12MO,NREL_BAQ,'Barranquilla')"
   ]
  },
  {
   "cell_type": "markdown",
   "metadata": {},
   "source": [
    "<br><div style=\"text-align: justify\">Los resultados anteriormente mostrados demuestran que la localización geográfica puede tener un gran impacto a la hora de minimizar los errores al aplicar un ajuste MCP. Tal como se aprecia en la tabla existen dos lugares para los cuales el error del ENFICC aumenta al ajustar la serie del NREL. Esto puede ser causado por la aparente convergencia de las series del IDEAM y del NREL para dichos lugares tal como se observa en la gráfica de Barranquilla. Sin embargo, en la mayoría de los casos los datos del NREL sobre estiman la radiación de manera constante y por lo tanto al ser ajustados mediante el MCP ayudan a disminuir significativamente el error presentado en el ENFICC.</div>"
   ]
  },
  {
   "cell_type": "markdown",
   "metadata": {},
   "source": [
    "### 6. Conclusiones\n",
    "----\n",
    "\n",
    "<br><div style=\"text-align: justify\">Para concluir, es importante considerar los factores anteriormente nombrados: periodo de observación, año de observación y lugar de observación. Ya que estos afectan directamente la credibilidad del ajuste por MCP para el cálculo del ENFICC. Como recomendaciones generales se debe optar por hacer el ajuste con el mayor tiempo de observación posible, en años que no presenten fenómenos del Niño y Niña y en lugares donde los datos satelitales mantengan una sobreestimación estable de la radiación.</div>\n"
   ]
  },
  {
   "cell_type": "markdown",
   "metadata": {},
   "source": [
    "### 7. Código utilizado para los cálculos del análisis de resultados\n",
    "----"
   ]
  },
  {
   "cell_type": "code",
   "execution_count": 31,
   "metadata": {},
   "outputs": [],
   "source": [
    "IDEAM_BAQ=importdata('Barranquilla')[0]\n",
    "NREL_BAQ=importdata('Barranquilla')[1]\n",
    "IDEAM_CLO=importdata('Cali')[0]\n",
    "NREL_CLO=importdata('Cali')[1]\n",
    "IDEAM_CDV=importdata('Carmendebolivar')[0]\n",
    "NREL_CDV=importdata('Carmendebolivar')[1]\n",
    "IDEAM_MDE=importdata('Medellin')[0]\n",
    "NREL_MDE=importdata('Medellin')[1]\n",
    "IDEAM_SMR=importdata('SantaMarta')[0]\n",
    "NREL_SMR=importdata('SantaMarta')[1]\n",
    "IDEAM_CZU=importdata('Sucre')[0]\n",
    "NREL_CZU=importdata('Sucre')[1]\n",
    "IDEAM_URA=importdata('Uribia')[0]\n",
    "NREL_URA=importdata('Uribia')[1]\n",
    "IDEAM_VUP=importdata('Valledupar')[0]\n",
    "NREL_VUP=importdata('Valledupar')[1]"
   ]
  },
  {
   "cell_type": "code",
   "execution_count": 145,
   "metadata": {
    "collapsed": true
   },
   "outputs": [],
   "source": [
    "año=2015\n",
    "IDEAM_BAQ_3MO=datapiece(IDEAM_BAQ, año, año, 1, 3, 1, 1)\n",
    "IDEAM_BAQ_6MO=datapiece(IDEAM_BAQ, año, año, 1, 6, 1, 1)\n",
    "IDEAM_BAQ_9MO=datapiece(IDEAM_BAQ, año, año, 1, 9, 1, 1)\n",
    "IDEAM_BAQ_12MO=datapiece(IDEAM_BAQ, año, año, 1, 12, 1, 1)"
   ]
  },
  {
   "cell_type": "code",
   "execution_count": 156,
   "metadata": {},
   "outputs": [],
   "source": [
    "NRELMOD_BAQ_3MO=MCP(NREL_BAQ,IDEAM_BAQ_3MO)\n",
    "NRELMOD_BAQ_6MO=MCP(NREL_BAQ,IDEAM_BAQ_6MO)\n",
    "NRELMOD_BAQ_9MO=MCP(NREL_BAQ,IDEAM_BAQ_9MO)\n",
    "NRELMOD_BAQ_12MO=MCP(NREL_BAQ,IDEAM_BAQ_12MO)"
   ]
  },
  {
   "cell_type": "code",
   "execution_count": 147,
   "metadata": {},
   "outputs": [],
   "source": [
    "a=ENFICC(IDEAM_BAQ)\n",
    "b=ENFICC(NREL_BAQ)\n",
    "c=ENFICC(NRELMOD_BAQ_3MO)\n",
    "d=ENFICC(NRELMOD_BAQ_6MO)\n",
    "e=ENFICC(NRELMOD_BAQ_9MO)\n",
    "f=ENFICC(NRELMOD_BAQ_12MO)"
   ]
  },
  {
   "cell_type": "code",
   "execution_count": 148,
   "metadata": {
    "collapsed": true
   },
   "outputs": [],
   "source": [
    "a1=RMSEn(NREL_BAQ,'NREL',IDEAM_BAQ,'IDEAM')\n",
    "b1=RMSEn(NRELMOD_BAQ_3MO,'NRELMOD',IDEAM_BAQ,'IDEAM')\n",
    "c1=RMSEn(NRELMOD_BAQ_6MO,'NRELMOD',IDEAM_BAQ,'IDEAM')\n",
    "d1=RMSEn(NRELMOD_BAQ_9MO,'NRELMOD',IDEAM_BAQ,'IDEAM')\n",
    "e1=RMSEn(NRELMOD_BAQ_12MO,'NRELMOD',IDEAM_BAQ,'IDEAM')"
   ]
  },
  {
   "cell_type": "code",
   "execution_count": 149,
   "metadata": {},
   "outputs": [],
   "source": [
    "a2=MBE(NREL_BAQ,'NREL',IDEAM_BAQ,'IDEAM')\n",
    "b2=MBE(NRELMOD_BAQ_3MO,'NRELMOD',IDEAM_BAQ,'IDEAM')\n",
    "c2=MBE(NRELMOD_BAQ_6MO,'NRELMOD',IDEAM_BAQ,'IDEAM')\n",
    "d2=MBE(NRELMOD_BAQ_9MO,'NRELMOD',IDEAM_BAQ,'IDEAM')\n",
    "e2=MBE(NRELMOD_BAQ_12MO,'NRELMOD',IDEAM_BAQ,'IDEAM')"
   ]
  },
  {
   "cell_type": "code",
   "execution_count": 150,
   "metadata": {
    "collapsed": true
   },
   "outputs": [],
   "source": [
    "a3=KSI(NREL_BAQ,'NREL',IDEAM_BAQ,'IDEAM')\n",
    "b3=KSI(NRELMOD_BAQ_3MO,'NRELMOD',IDEAM_BAQ,'IDEAM')\n",
    "c3=KSI(NRELMOD_BAQ_6MO,'NRELMOD',IDEAM_BAQ,'IDEAM')\n",
    "d3=KSI(NRELMOD_BAQ_9MO,'NRELMOD',IDEAM_BAQ,'IDEAM')\n",
    "e3=KSI(NRELMOD_BAQ_12MO,'NRELMOD',IDEAM_BAQ,'IDEAM')"
   ]
  },
  {
   "cell_type": "code",
   "execution_count": 157,
   "metadata": {},
   "outputs": [],
   "source": [
    "column1=[round(100*abs(a-b)/a,2),round(100*abs(a-c)/a,2),round(100*abs(a-d)/a,2),round(100*abs(a-e)/a,2),round(100*abs(a-f)/a,2)]\n",
    "column2=[round(a1*100,2),round(b1*100,2),round(c1*100,2),round(d1*100,2),round(e1*100,2)]\n",
    "column3=[round(a2*100,2),round(b2*100,2),round(c2*100,2),round(d2*100,2),round(e2*100,2)]\n",
    "column4=[a3,b3,c3,d3,e3]\n",
    "\n",
    "X = pd.DataFrame({'2015':['NREL','3 meses','6 meses','9 meses','12 meses'],\n",
    "                  'Error ENFICC [%]':column1,'RMSEn [%]':column2,'MBE [%]':column3,\n",
    "                 'KSI [p-val]':column4})\n"
   ]
  },
  {
   "cell_type": "code",
   "execution_count": 152,
   "metadata": {
    "collapsed": true
   },
   "outputs": [],
   "source": [
    "output_dir = os.path.join( '.','output')\n",
    "X.to_pickle(os.path.join(output_dir,'2015'))"
   ]
  },
  {
   "cell_type": "code",
   "execution_count": 230,
   "metadata": {},
   "outputs": [],
   "source": [
    "año=2013\n",
    "IDEAM_BAQ_12MO=datapiece(IDEAM_BAQ, año, año, 1, 12, 1, 1)\n",
    "IDEAM_CLO_12MO=datapiece(IDEAM_CLO, año, año, 1, 12, 1, 1)\n",
    "IDEAM_CDV_12MO=datapiece(IDEAM_CDV, año, año, 1, 12, 1, 1)\n",
    "IDEAM_MDE_12MO=datapiece(IDEAM_MDE, año, año, 1, 12, 1, 1)\n",
    "IDEAM_SMR_12MO=datapiece(IDEAM_SMR, año, año, 1, 12, 1, 1)\n",
    "IDEAM_CZU_12MO=datapiece(IDEAM_CZU, año, año, 1, 12, 1, 1)\n",
    "IDEAM_URA_12MO=datapiece(IDEAM_URA, año, año, 1, 12, 1, 1)\n",
    "IDEAM_VUP_12MO=datapiece(IDEAM_VUP, año, año, 1, 12, 1, 1)\n",
    "\n",
    "NRELMOD_BAQ_12MO=MCP(NREL_BAQ,IDEAM_BAQ_12MO)\n",
    "NRELMOD_CLO_12MO=MCP(NREL_CLO,IDEAM_CLO_12MO)\n",
    "NRELMOD_CDV_12MO=MCP(NREL_CDV,IDEAM_CDV_12MO)\n",
    "NRELMOD_MDE_12MO=MCP(NREL_MDE,IDEAM_MDE_12MO)\n",
    "NRELMOD_SMR_12MO=MCP(NREL_SMR,IDEAM_SMR_12MO)\n",
    "NRELMOD_CZU_12MO=MCP(NREL_CZU,IDEAM_CZU_12MO)\n",
    "NRELMOD_URA_12MO=MCP(NREL_URA,IDEAM_URA_12MO)\n",
    "NRELMOD_VUP_12MO=MCP(NREL_VUP,IDEAM_VUP_12MO)"
   ]
  },
  {
   "cell_type": "code",
   "execution_count": 231,
   "metadata": {
    "collapsed": true
   },
   "outputs": [],
   "source": [
    "BAQ1=ENFICC(IDEAM_BAQ)\n",
    "BAQ2=ENFICC(NREL_BAQ)\n",
    "BAQ3=ENFICC(NRELMOD_BAQ_12MO)\n",
    "\n",
    "CLO1=ENFICC(IDEAM_CLO)\n",
    "CLO2=ENFICC(NREL_CLO)\n",
    "CLO3=ENFICC(NRELMOD_CLO_12MO)\n",
    "\n",
    "CDV1=ENFICC(IDEAM_CDV)\n",
    "CDV2=ENFICC(NREL_CDV)\n",
    "CDV3=ENFICC(NRELMOD_CDV_12MO)\n",
    "\n",
    "MDE1=ENFICC(IDEAM_MDE)\n",
    "MDE2=ENFICC(NREL_MDE)\n",
    "MDE3=ENFICC(NRELMOD_MDE_12MO)\n",
    "\n",
    "SMR1=ENFICC(IDEAM_SMR)\n",
    "SMR2=ENFICC(NREL_SMR)\n",
    "SMR3=ENFICC(NRELMOD_SMR_12MO)\n",
    "\n",
    "CZU1=ENFICC(IDEAM_CZU)\n",
    "CZU2=ENFICC(NREL_CZU)\n",
    "CZU3=ENFICC(NRELMOD_CZU_12MO)\n",
    "\n",
    "URA1=ENFICC(IDEAM_URA)\n",
    "URA2=ENFICC(NREL_URA)\n",
    "URA3=ENFICC(NRELMOD_URA_12MO)\n",
    "\n",
    "VUP1=ENFICC(IDEAM_VUP)\n",
    "VUP2=ENFICC(NREL_VUP)\n",
    "VUP3=ENFICC(NRELMOD_VUP_12MO)"
   ]
  },
  {
   "cell_type": "code",
   "execution_count": 225,
   "metadata": {},
   "outputs": [],
   "source": [
    "column1=[round(100*abs(CLO1-CLO2)/CLO1,2),round(100*abs(CLO1-CLO3)/CLO3,2),round(100*abs(CLO1-CLO2)/CLO1,2)-round(100*abs(CLO1-CLO3)/CLO3,2)]\n",
    "column2=[round(100*abs(MDE1-MDE2)/MDE1,2),round(100*abs(MDE1-MDE3)/MDE3,2),round(100*abs(MDE1-MDE2)/MDE1,2)-round(100*abs(MDE1-MDE3)/MDE3,2)]\n",
    "column3=[round(100*abs(SMR1-SMR2)/SMR1,2),round(100*abs(SMR1-SMR3)/SMR3,2),round(100*abs(SMR1-SMR2)/SMR1,2)-round(100*abs(SMR1-SMR3)/SMR3,2)]\n",
    "Y = pd.DataFrame({'2015':['Error ENFICC NREL [%]',' Error ENFIC NRELMOD [%]','Disminución del error [%]'],\n",
    "                  'Cali':column1,'Medellin':column2,'Santa Marta':column3})\n"
   ]
  },
  {
   "cell_type": "code",
   "execution_count": 211,
   "metadata": {
    "collapsed": true
   },
   "outputs": [],
   "source": [
    "output_dir = os.path.join( '.','output')\n",
    "Y.to_pickle(os.path.join(output_dir,'2015_2'))"
   ]
  },
  {
   "cell_type": "code",
   "execution_count": 237,
   "metadata": {},
   "outputs": [],
   "source": [
    "column1=[round(100*abs(CLO1-CLO2)/CLO1,2),round(100*abs(CLO1-CLO3)/CLO3,2),round(100*abs(CLO1-CLO2)/CLO1,2)-round(100*abs(CLO1-CLO3)/CLO3,2)]\n",
    "column2=[round(100*abs(MDE1-MDE2)/MDE1,2),round(100*abs(MDE1-MDE3)/MDE3,2),round(100*abs(MDE1-MDE2)/MDE1,2)-round(100*abs(MDE1-MDE3)/MDE3,2)]\n",
    "column3=[round(100*abs(SMR1-SMR2)/SMR1,2),round(100*abs(SMR1-SMR3)/SMR3,2),round(100*abs(SMR1-SMR2)/SMR1,2)-round(100*abs(SMR1-SMR3)/SMR3,2)]\n",
    "column4=[round(100*abs(BAQ1-BAQ2)/BAQ1,2),round(100*abs(BAQ1-BAQ3)/BAQ3,2),round(100*abs(BAQ1-BAQ2)/BAQ1,2)-round(100*abs(BAQ1-BAQ3)/BAQ3,2)]\n",
    "column5=[round(100*abs(CDV1-CDV2)/CDV1,2),round(100*abs(CDV1-CDV3)/CDV3,2),round(100*abs(CDV1-CDV2)/CDV1,2)-round(100*abs(CDV1-CDV3)/CDV3,2)]\n",
    "column6=[round(100*abs(CZU1-CZU2)/CZU1,2),round(100*abs(CZU1-CZU3)/CZU3,2),round(100*abs(CZU1-CZU2)/CZU1,2)-round(100*abs(CZU1-CZU3)/CZU3,2)]\n",
    "column7=[round(100*abs(URA1-URA2)/URA1,2),round(100*abs(URA1-URA3)/URA3,2),round(100*abs(URA1-URA2)/URA1,2)-round(100*abs(URA1-URA3)/URA3,2)]\n",
    "column8=[round(100*abs(VUP1-VUP2)/VUP1,2),round(100*abs(VUP1-VUP3)/VUP3,2),round(100*abs(VUP1-VUP2)/VUP1,2)-round(100*abs(VUP1-VUP3)/VUP3,2)]\n",
    "\n",
    "Z = pd.DataFrame({'2013':['Error ENFICC NREL [%]',' Error ENFIC NRELMOD [%]','Disminución del error [%]'],\n",
    "                  'Cali':column1,'Medellin':column2,'Santa Marta':column3, 'Barranquilla':column4,\n",
    "                  'Carmen de Bolivar':column5,'Sucre':column6, 'Uribia':column7,'Valledupar':column8})"
   ]
  },
  {
   "cell_type": "code",
   "execution_count": 235,
   "metadata": {
    "collapsed": true
   },
   "outputs": [],
   "source": [
    "output_dir = os.path.join( '.','output')\n",
    "Z.to_pickle(os.path.join(output_dir,'2013_3'))"
   ]
  }
 ],
 "metadata": {
  "kernelspec": {
   "display_name": "Python 3",
   "language": "python",
   "name": "python3"
  },
  "language_info": {
   "codemirror_mode": {
    "name": "ipython",
    "version": 3
   },
   "file_extension": ".py",
   "mimetype": "text/x-python",
   "name": "python",
   "nbconvert_exporter": "python",
   "pygments_lexer": "ipython3",
   "version": "3.6.3"
  }
 },
 "nbformat": 4,
 "nbformat_minor": 2
}
