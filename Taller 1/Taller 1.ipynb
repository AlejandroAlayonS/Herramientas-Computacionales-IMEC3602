{
 "cells": [
  {
   "cell_type": "markdown",
   "metadata": {},
   "source": [
    "# Taller 1\n",
    "_____"
   ]
  },
  {
   "cell_type": "markdown",
   "metadata": {},
   "source": [
    "<div style=\"text-align: justify\"> Para el desarrollo del presente taller se utilizó una serie de funciones auxiliares con el objetivo de facilitar la construcción de los modelos matemáticos requeridos para el cálculo de ajustes, errores e indicadores. Dichas funciones son explicadas con mayor detalle a continuación.</div> "
   ]
  },
  {
   "cell_type": "code",
   "execution_count": 2,
   "metadata": {},
   "outputs": [
    {
     "name": "stdout",
     "output_type": "stream",
     "text": [
      "Populating the interactive namespace from numpy and matplotlib\n"
     ]
    }
   ],
   "source": [
    "import os\n",
    "import pandas as pd\n",
    "import scipy as sp\n",
    "from scipy import stats\n",
    "%pylab inline"
   ]
  },
  {
   "cell_type": "markdown",
   "metadata": {},
   "source": [
    "<div style=\"text-align: justify\">La primer función auxiliar utilizada fue denominada **_importdata_**. Esta recibe como parámetro el nombre de la ciudad de donde se quieren importar los datos de radiación y retorna un arreglo de dos posiciones en el cual se encuentran los datos históricos del IDEAM y del NREL respectivamente. </div><br/>\n",
    "\n",
    "<div style=\"text-align: justify\"> Los datos están disponibles para las siguientes ciudades (escritas tal como aparecen en los directorios):</div>\n",
    "\n",
    "* Barranquilla\n",
    "* Cali\n",
    "* Carmendebolivar\n",
    "* Medellin\n",
    "* SantaMarta\n",
    "* Sucre\n",
    "* Uribia\n",
    "* Valledupar"
   ]
  },
  {
   "cell_type": "code",
   "execution_count": 6,
   "metadata": {},
   "outputs": [],
   "source": [
    "def importdata(ciudad):\n",
    "    \n",
    "    base_dir = os.path.join( '.','data')\n",
    "    fuente1 = 'IDEAM'\n",
    "    fuente2 = 'NREL'\n",
    "    serie_csv1 = os.path.join(base_dir,ciudad,fuente1+'.csv')\n",
    "    serie_pd1 = pd.read_csv(serie_csv1, sep = ';',\n",
    "                    encoding='latin-1')\n",
    "    serie_csv2 = os.path.join(base_dir,ciudad,fuente2+'.csv')\n",
    "    serie_pd2 = pd.read_csv(serie_csv2, sep = ';',\n",
    "                    encoding='latin-1')\n",
    "    \n",
    "    return serie_pd1, serie_pd2\n",
    "    "
   ]
  },
  {
   "cell_type": "markdown",
   "metadata": {},
   "source": [
    "<div style=\"text-align: justify\">La segunda función auxiliar utilizada fue denominada **_datapiece_**. Esta recibe como parámetros una lista de datos y dos fechas en la forma: _año inicial, año final, mes inicial, mes final, día inicial y día final_. Con base en esto, la función retorna la misma lista de datos ingresada pero recortada entre el intervalo de tiempo indicado. </div>"
   ]
  },
  {
   "cell_type": "code",
   "execution_count": 8,
   "metadata": {
    "collapsed": true
   },
   "outputs": [],
   "source": [
    "def datapiece(data, year1, year2, month1, month2, day1, day2):\n",
    "    piece=data[(data['AÑO']>=year1) & (data['AÑO']<=year2)\n",
    "            & (data['MES']>=month1) & (data['MES']<=month2)\n",
    "            & (data['DIA']>=day1) & (data['DIA']<=day2)]\n",
    "    return piece"
   ]
  },
  {
   "cell_type": "markdown",
   "metadata": {},
   "source": [
    "<div style=\"text-align: justify\">La tercera función auxiliar utilizada fue denominada **_datadj_**. Esta recibe como parámetros dos listas de datos y tiene como propósito ajustar el tamaño y temporalidad de la primera con respecto a la segunda. Esto permite que las listas puedan ser comparables entre si ya que la función retorna la primera lista ajustada. </div>"
   ]
  },
  {
   "cell_type": "code",
   "execution_count": null,
   "metadata": {
    "collapsed": true
   },
   "outputs": [],
   "source": [
    "#La variable de entrada data2 es IDEAM\n",
    "def datadj(data1,data2):\n",
    "    data1_adj=data1[(data1['AÑO']>=data2.iloc[0,0]) & (data1['AÑO']<=data2.iloc[-1,0])\n",
    "            & (data1['MES']>=data2.iloc[0,1]) & (data1['MES']<=data2.iloc[-1,1])\n",
    "            & (data1['DIA']>=data2.iloc[0,2]) & (data1['DIA']<=data2.iloc[-1,2])]\n",
    "    \n",
    "    return data1_adj\n"
   ]
  },
  {
   "cell_type": "markdown",
   "metadata": {},
   "source": []
  },
  {
   "cell_type": "code",
   "execution_count": null,
   "metadata": {
    "collapsed": true
   },
   "outputs": [],
   "source": [
    "def ghi_monthavg(serie_horaria):\n",
    "    agnos = sorted(serie_horaria['AÑO'].unique())\n",
    "    ghi_df = pd.DataFrame(columns=[\"AÑO\", \"MES\", \"GHIdiario\"])\n",
    "    for agno in agnos:\n",
    "        for mes in range(1,13):\n",
    "            nombre_energia = list(serie_horaria)[-1]\n",
    "            dias = sorted(serie_horaria[(serie_horaria['AÑO'] == agno) &\n",
    "                        (serie_horaria['MES'] == mes)][\"DIA\"].unique())\n",
    "            ghi_dia = serie_horaria.loc[((serie_horaria[\"AÑO\"] == agno)\n",
    "                            & (serie_horaria[\"MES\"] == mes)),\n",
    "                                        nombre_energia].sum()/(dias[-1]*1000)\n",
    "            ghi_dict = {\"AÑO\":agno, \"MES\":mes,\n",
    "                        \"GHIdiario\":ghi_dia}\n",
    "            ghi_df = ghi_df.append(ghi_dict, ignore_index=True)\n",
    "    return ghi_df"
   ]
  },
  {
   "cell_type": "code",
   "execution_count": null,
   "metadata": {
    "collapsed": true
   },
   "outputs": [],
   "source": [
    "def ENFICC(data1):\n",
    "    \n",
    "    ghi_diario_loc = ghi_monthavg(data1)\n",
    "    percentil = 0.01\n",
    "    enficc = ghi_diario_loc.quantile(q=percentil, \n",
    "                                 numeric_only=True)[\"GHIdiario\"]\n",
    "\n",
    "    return print('La ENFICC 99% es: ', enficc)"
   ]
  },
  {
   "cell_type": "code",
   "execution_count": null,
   "metadata": {
    "collapsed": true
   },
   "outputs": [],
   "source": [
    "def graphED(arrayIDEAM,arrayNRELMOD,arrayNREL):\n",
    "    \n",
    "    NRELMODadj=datadj(arrayNRELMOD,arrayIDEAM)\n",
    "    NRELadj=datadj(arrayNREL,arrayIDEAM)\n",
    "\n",
    "    ghi_diario_loc1 = ghi_monthavg(arrayIDEAM)    \n",
    "    datos_IDEAM1 = sorted(ghi_diario_loc[\"GHIdiario\"])\n",
    "    numdatos1 = range(len(datos_IDEAM1))\n",
    "\n",
    "    ghi_diario_loc2 = ghi_monthavg(NRELMODadj)    \n",
    "    datos_IDEAM2 = sorted(ghi_diario_loc2[\"GHIdiario\"])\n",
    "    numdatos2 = range(len(datos_IDEAM2))\n",
    "\n",
    "    ghi_diario_loc3 = ghi_monthavg(NRELadj)    \n",
    "    datos_IDEAM3 = sorted(ghi_diario_loc3[\"GHIdiario\"])\n",
    "    numdatos3 = range(len(datos_IDEAM3))\n",
    "\n",
    "    pylab.xlabel(\"Datos\")\n",
    "    pylab.ylabel(\"Energía/Energía Base IDEAM\")\n",
    "    \n",
    "    pylab.plot(numdatos1,datos_IDEAM1/datos_IDEAM1[0],'-k', label='IDEAM')\n",
    "    pylab.plot(numdatos2,datos_IDEAM2/datos_IDEAM1[0],'-b', label='NRELMOD')\n",
    "    pylab.plot(numdatos3,datos_IDEAM3/datos_IDEAM1[0],'-r', label='NREL')\n",
    "        \n",
    "    pylab.legend(loc='upper left')\n",
    "    output_dir = os.path.join( '.','output')\n",
    "    pylab.savefig(os.path.join(output_dir,'valledupar_IDEAM.png'), dpi=600)\n",
    "    \n",
    "    return pylab.plot()"
   ]
  },
  {
   "cell_type": "code",
   "execution_count": null,
   "metadata": {
    "collapsed": true
   },
   "outputs": [],
   "source": [
    "def MCP(data_ref,data_obj):\n",
    "    \n",
    "    #Extrae los datos de referenia en el intervalo de tiempo de los datos objetivo \n",
    "    data_ref_adj=datadj(data_ref,data_obj)\n",
    "    #Calcula los estadísticos de los datos en el periodo común\n",
    "    mu_obj=data_obj['IDEAM'].mean()\n",
    "    sigma_obj=data_obj['IDEAM'].std()\n",
    "    mu_ref=data_ref_adj['NREL'].mean()\n",
    "    sigma_ref=data_ref_adj['NREL'].std()\n",
    "    \n",
    "    #Calcula los parámetros del modelo\n",
    "    m=sigma_obj/sigma_ref\n",
    "    b=mu_obj-m*mu_ref\n",
    "    \n",
    "    #Aplica el modelo remplazando los valores negativos con 0\n",
    "    data_ref_cor=data_ref['NREL']*m+b\n",
    "    data_ref_cor[data_ref_cor < 0] = 0\n",
    "    \n",
    "    dat2 = pd.DataFrame({'NRELMOD': data_ref_cor})\n",
    "    newdata=data_ref.join(dat2['NRELMOD'])\n",
    "    \n",
    "               \n",
    "    return newdata"
   ]
  },
  {
   "cell_type": "code",
   "execution_count": null,
   "metadata": {
    "collapsed": true
   },
   "outputs": [],
   "source": [
    "def RMSEn(data1,column1,data2,column2):\n",
    "    \n",
    "    #Ajusta la primera lista de datos para que concuerde con el periodo de la segunda lista\n",
    "    data1_adj=datadj(data1,data2)\n",
    "    \n",
    "    #Aplica la función de error cuadratico medio normalizado paso a paso\n",
    "    fst=(data1_adj[column1]-data2[column2])**2\n",
    "    N=len(data2.index)\n",
    "    scnd=sqrt(fst.sum()/N)\n",
    "    x_d2_max=data2[column2].max()\n",
    "    x_d2_min=data2[column2].min()\n",
    "    rmsen=scnd/(x_d2_max-x_d2_min)\n",
    "    \n",
    "    return rmsen"
   ]
  },
  {
   "cell_type": "code",
   "execution_count": null,
   "metadata": {
    "collapsed": true
   },
   "outputs": [],
   "source": [
    "def MBE(data1,column1,data2,column2):\n",
    "    \n",
    "    #Ajusta la primera lista de datos para que concuerde con el periodo de la segunda lista\n",
    "    data1_adj=datadj(data1,data2)\n",
    "    \n",
    "    #Aplica la función de error de sesgo medio paso a paso\n",
    "    fst=(data1_adj[column1]-data2[column2])\n",
    "    scnd=data2[column2].sum()\n",
    "    mbe=fst.sum()/scnd\n",
    "    \n",
    "    return mbe"
   ]
  },
  {
   "cell_type": "code",
   "execution_count": null,
   "metadata": {},
   "outputs": [],
   "source": [
    "def KSI(data1,column1,data2,column2):\n",
    "    \n",
    "    data1_adj=datadj(data1,data2)\n",
    "    \n",
    "    ksi=sp.stats.ks_2samp(data1_adj[column1],data2[column2])\n",
    "    return ksi[1]"
   ]
  },
  {
   "cell_type": "markdown",
   "metadata": {},
   "source": [
    "<div style=\"text-align: justify\"> </div>"
   ]
  },
  {
   "cell_type": "markdown",
   "metadata": {},
   "source": [
    "<div style=\"text-align: justify\"> </div>"
   ]
  }
 ],
 "metadata": {
  "kernelspec": {
   "display_name": "Python 3",
   "language": "python",
   "name": "python3"
  },
  "language_info": {
   "codemirror_mode": {
    "name": "ipython",
    "version": 3
   },
   "file_extension": ".py",
   "mimetype": "text/x-python",
   "name": "python",
   "nbconvert_exporter": "python",
   "pygments_lexer": "ipython3",
   "version": "3.6.3"
  }
 },
 "nbformat": 4,
 "nbformat_minor": 2
}
