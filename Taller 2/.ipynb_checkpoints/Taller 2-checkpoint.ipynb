{
 "cells": [
  {
   "cell_type": "markdown",
   "metadata": {},
   "source": [
    "# <div style=\"text-align: center\"> Taller 2 </div>  \n",
    "<div style=\"text-align: center\"> Alejandro Alayón Suárez - 201316083</div>\n",
    "___"
   ]
  },
  {
   "cell_type": "code",
   "execution_count": 2,
   "metadata": {
    "collapsed": true
   },
   "outputs": [],
   "source": [
    "import scipy as sp\n",
    "import numpy as np\n",
    "import scipy.integrate as integrate\n",
    "import matplotlib.pyplot as plt"
   ]
  },
  {
   "cell_type": "markdown",
   "metadata": {},
   "source": [
    "<div style=\"text-align: justify\">Para el desarrollo del presente taller se utilizaron los parámetros del kart planteados por Córdoba y Clavijo los cuales son expuestos a continuación.</div> "
   ]
  },
  {
   "cell_type": "code",
   "execution_count": 3,
   "metadata": {
    "collapsed": true
   },
   "outputs": [],
   "source": [
    "g=9.81 #(m/s^2)\n",
    "rho=1.1955 #Densidad del aire (kg/m^3)\n",
    "masa=152 #Masa del kart (kg)\n",
    "w=masa*g #Peso del kart (N)\n",
    "Cd=0.89 #Coeficiente de arrastre\n",
    "dll= 0.975 #Distancia entre ejes de llantas traseras (m)\n",
    "alj= 0.88 # Altura del kart con piloto de 1.68 m (m)\n",
    "Af= dll*alj/2 #Area frontal (m^2)\n",
    "a=0.2231 # Distancia del centro de gravedad al eje de la llanta trasera (m)\n",
    "l=1.0063 # Distancia de eje de las llantas traseras y delanteras (m)\n",
    "h=0.07478 # Altura del centro de gravedad del kart con respecto al piso (m)\n",
    "ng=3.2 #Relación de transmisión (también puede ser 3.4)\n",
    "rll=0.139 #Radio geométrico de las llantas traseras (m)\n",
    "refc=0.98*rll #Radio efectivo de las llantas traseras (m)\n",
    "nu=0.95 #Eficiencia total de la transmisión\n",
    "reje=0.02 # Radio eje de las llantas (m)\n",
    "meje=3.832 # Masa del eje (kg)\n",
    "ieje=(meje*reje**2)/2.0 # Inercia del eje de las llantas (kg-m^2)\n",
    "ii=5.2E-3 # Inercia motor eléctrico (kg m^2)\n",
    "mllt=1.43 # Masa llantas traseras (kg)\n",
    "mlld=1.20 # Masa llantas delanteras (kg)\n",
    "rlld=0.129 # Radio llantas delanteras (m)\n",
    "rind=0.0631 # Radio rin llantas delanteras (m)\n",
    "rin=0.0631 #radio interno del neumático (m)\n",
    "mbt=0.7*mllt # El porcentaje de la masa total que pesa la parte \"banda\" de la llanta trasera\n",
    "mdt=0.3*mllt # El porcentaje de la masa total que pesa la parte \"disco\" de la llanta trasera\n",
    "mbd=0.7*mlld # El porcentaje de la masa total que pesa la parte \"banda\" de la llanta delantera\n",
    "mdd=0.3*mlld # El porcentaje de la masa total que pesa la parte \"disco\" de la llanta delantera\n",
    "illd=(mbd*rlld)+(mdd*(rlld**2-rind**2))/2 # Inercia 1 llanta delantera (kg-m^2)\n",
    "illt=(mbt*rll)+(mdt*(rll**2-rin**2))/2 # Inercia 1 llanta trasera (kg-m^2)\n",
    "\n",
    "#Variables a analizar\n",
    "masa=152 #Masa del kart (kg)\n",
    "Cd=0.89 #Coeficiente de arrastre\n",
    "ng=3.2 #Relación de transmisión (también puede ser 3.4)"
   ]
  },
  {
   "cell_type": "markdown",
   "metadata": {},
   "source": [
    "## <div style=\"text-align: justify\">1. Desempeño en la aceleración del kart </div>\n",
    "___\n",
    "<div style=\"text-align: justify\"> Por la segunda ley de Newton se puede establecer que las fuerzas que rigen un kart en movimiento están contenidas en la siguiente ecuacion:</div>  \n",
    "<div style=\"text-align: center\">$Ma_x=F_x-R_x-D_A$</div>  \n",
    "<div style=\"text-align: justify\"> Donde $F_x$ es la fuerza de tracción en las llantas la cual está definida a continuación:</div>  \n",
    "<div style=\"text-align: center\">$F_x=\\frac{TN_g\\eta}{r}-(I_w+I_d+I_eN_g^2)\\frac{a_x}{r^2}$</div>  \n",
    "<div style=\"text-align: center\">$T=\\frac{P}{\\omega}$</div>  \n",
    "<div style=\"text-align: center\">$P=3.037((-0.00000004564538677\\omega^3)+(0.0001056995459\\omega^2)+(1.53209191\\omega)-1.895523696)$</div>  \n",
    "<div style=\"text-align: center\">$\\omega=\\frac{v_xN_g}{r}$</div>    \n",
    "$T$ =Torque producido por el motor eléctrico.   \n",
    "$P$ =Potencia del motor.  \n",
    "$\\omega$ =Velocidad angular del motor.  \n",
    "$N_g$ =Relación de transmisión.  \n",
    "$\\eta$ =Eficiencia de la transmisión.  \n",
    "$r$ =Radio efectivo de las llantas tractivas.  \n",
    "$I_w$ =Momento de inercia de las llantas.  \n",
    "$I_d$ =Momento de inercia de el eje.  \n",
    "$I_e$ =Momento de inercia del motor.  \n",
    "$a_x$ =Aceleración del kart.  \n",
    "$v_x$ =Velocidad del kart.   \n",
    "<br><div style=\"text-align: justify\"> Ahora bien, $R_x$ representa la fuerza de resistencia a la rodadura que presenta el kart, esta puede ser considerada como constante con la aceleración ($Rc_x$) o variable con esta ($Rv_x$) dependiendo la complejidad del modelo que se quiera tener:</div>  \n",
    "<div style=\"text-align: center\">$Rc_x=0.01w(1+\\frac{v_x}{100})$</div>  \n",
    "<div style=\"text-align: center\">$Rv_x=0.01w(1+\\frac{v_x}{100})(\\frac{a}{l}+\\frac{a_x}{g}\\frac{h}{l})$</div>  \n",
    "$w$ =Peso del kart.  \n",
    "$v_x$ =Velocidad del kart.    \n",
    "$a$ =Distancia del centro de gravedad al eje de la llanta trasera.  \n",
    "$l$ =Distancia de eje de las llantas traseras y delanteras.  \n",
    "$h$ =Altura del centro de gravedad del kart con respecto al piso.  \n",
    "$g$ =Gravedad.  \n",
    "<br><div style=\"text-align: justify\"> Finalmente, $D_A$ representa la fuerza de arrastre que se opone al kart en su avance y está definida por la siguiente ecuación:</div>  \n",
    "<div style=\"text-align: center\">$D_A=\\frac{1}{2}\\rho A_fC_dv_x^2$</div>\n",
    "$\\rho$ =Densidad del aire.  \n",
    "$A_f$ =Area frontral del kart.  \n",
    "$C_f$ =Coeficiente de arrastre.  \n",
    "$v_x$ =Velocidad del kart.     \n",
    "<br><div style=\"text-align: justify\"> El fin último del modelo es poder establecer la velocidad del kart en un tiempo dado, por lo tanto es necesario plantear una ecuación diferencial de la forma:</div>  \n",
    "<div style=\"text-align: center\">$a_x=\\frac{\\partial v_x}{\\partial t} = f(v_x,t)$</div>\n",
    "\n"
   ]
  },
  {
   "cell_type": "code",
   "execution_count": 4,
   "metadata": {
    "collapsed": true
   },
   "outputs": [],
   "source": [
    "# Función que calcula el torque producido por el motor según la velocidad lineal del kart.\n",
    "def Torq(vel):\n",
    "    \n",
    "    omega=(vel*ng)/refc #Velocidad angular del motor (rad/s)\n",
    "    \n",
    "    if omega.all() > 5000*2*np.pi/60:\n",
    "        omega=5000*2*np.pi/60\n",
    "        \n",
    "    P=3.037*((-0.00000004564538677*omega**3)+(0.0001056995459*omega**2)+(1.53209191*omega)-1.895523696)\n",
    "    \n",
    "    if omega.all() == 0:\n",
    "        T=0\n",
    "    else:\n",
    "        T=P/omega\n",
    "            \n",
    "    return T"
   ]
  },
  {
   "cell_type": "code",
   "execution_count": 5,
   "metadata": {
    "collapsed": true
   },
   "outputs": [],
   "source": [
    "# Función que calcula la fuerza de tracción producida por el motor eléctrico sobre el kart según la velocidad y aceleración del mismo.\n",
    "def Ftrac(vel,acl):\n",
    "        \n",
    "    Ftracx=(Torq(vel)*ng*nu)/refc-((illt*2+ieje+ii*ng**2))*(acl/(refc**2))\n",
    "    \n",
    "    return Ftracx"
   ]
  },
  {
   "cell_type": "code",
   "execution_count": 6,
   "metadata": {
    "collapsed": true
   },
   "outputs": [],
   "source": [
    "# Función que calcula la fuerza de resistencia a la rodadura variable con la aceleración y velocidad\n",
    "def Fresr(vel,acl):\n",
    "    fr=0.01*(1+(vel/100))\n",
    "    wr=w*((a/l)+(acl/g)*(h/l))\n",
    "    return fr*wr"
   ]
  },
  {
   "cell_type": "code",
   "execution_count": 7,
   "metadata": {
    "collapsed": true
   },
   "outputs": [],
   "source": [
    "# Función que calcula la fuerza de resistencia a la rodadura constante con la aceleración y variable con la velocidad\n",
    "def Fresrc(vel):\n",
    "    fr=0.01*(1+(vel/100))\n",
    "    return fr*w"
   ]
  },
  {
   "cell_type": "code",
   "execution_count": 8,
   "metadata": {
    "collapsed": true
   },
   "outputs": [],
   "source": [
    "# Función que calcula la fuerza de resistencia al viento o fuerza de arrastre sobre el kart dependiendo de la velocidad del mismo\n",
    "def Fdrag(vel): \n",
    "    return 0.5*rho*Af*Cd*vel**2"
   ]
  },
  {
   "cell_type": "markdown",
   "metadata": {},
   "source": [
    "### 1.1 Modelo para resistencia a la rodadura constante \n",
    "___\n",
    "\n",
    "<div style=\"text-align: jusify\">Tal como se menciono anterioirmente, para poder resolver la ecuación diferencial esta debe tener la siguiente forma:</div>  \n",
    "<div style=\"text-align: center\">$a_x=\\frac{\\partial v_x}{\\partial t} = f(v_x,t)$</div>  \n",
    "<div style=\"text-align: jusify\">Por lo tanto, para la resitencia a la rodadura constante con la aceleración se tiene la siguiente ecuación:</div>   \n",
    "<div style=\"text-align: center\">$\\frac{\\partial v_x}{\\partial t} =\\frac{\\frac{TN_g\\eta}{r}-R_x-D_A}{M+\\frac{(I_w+I_d+I_eN_g^2)}{r^2}}$</div> "
   ]
  },
  {
   "cell_type": "code",
   "execution_count": 9,
   "metadata": {
    "collapsed": true
   },
   "outputs": [],
   "source": [
    "# Ecuación diferencial de la forma dv/dt=f(t,v) considerando la resistencia a la rodadura constante con la aceleración\n",
    "def acel(t,vel):\n",
    "    \n",
    "    num=((Torq(vel)*ng*nu)/refc)-Fresrc(vel)-Fdrag(vel)\n",
    "    den=(masa+((illt*2+ieje+ii*ng**2)/(refc**2)))\n",
    "    a=num/den\n",
    "    \n",
    "    return a"
   ]
  },
  {
   "cell_type": "code",
   "execution_count": 10,
   "metadata": {
    "collapsed": true
   },
   "outputs": [],
   "source": [
    "# Solver por RK45 de la ecuación diferencial\n",
    "sol=integrate.solve_ivp(acel,[0000.1,300],[0000.1], method='RK45',max_step=1)"
   ]
  },
  {
   "cell_type": "code",
   "execution_count": 11,
   "metadata": {
    "collapsed": true
   },
   "outputs": [],
   "source": [
    "# Ajuste de los arreglos\n",
    "art=acel(0,sol.y[0,:])\n",
    "vel2=np.append([0],sol.y)\n",
    "art2=np.append([0],art)\n",
    "t2=np.append([0],sol.t)"
   ]
  },
  {
   "cell_type": "markdown",
   "metadata": {},
   "source": [
    "### 1.2 Modelo para resistencia a la rodadura variable\n",
    "___\n",
    "<div style=\"text-align: jusify\">Por su parte, para la resitencia a la rodadura variable con la aceleración se obtiene la siguiente ecuación:</div>   \n",
    "<div style=\"text-align: center\">$\\frac{\\partial v_x}{\\partial t} =\\frac{\\frac{TN_g\\eta}{r}-0.01w(1+\\frac{v_x}{100})\\frac{a}{l}-D_A}{M+\\frac{(I_w+I_d+I_eN_g^2)}{r^2}+0.01\\frac{w}{g}(1+\\frac{v_x}{100})\\frac{h}{l}}$</div> "
   ]
  },
  {
   "cell_type": "code",
   "execution_count": 14,
   "metadata": {
    "collapsed": true
   },
   "outputs": [],
   "source": [
    "# Ecuación diferencial de la forma dv/dt=f(t,v) considerando la resistencia a la rodadura variable con la aceleración\n",
    "def acel2(t,vel):\n",
    "    \n",
    "    alpha=(Torq(vel)*ng*nu)/refc\n",
    "    beta=masa+((illt*2+ieje+ii*ng**2)/(refc**2))\n",
    "    gama=(0.01*(1+(vel/100)))*w\n",
    "    \n",
    "    num=alpha-gama*(a/l)-Fdrag(vel)\n",
    "    den=beta+(gama/g)*(h/l)\n",
    "    a2=num/den\n",
    "    \n",
    "    return a2"
   ]
  },
  {
   "cell_type": "code",
   "execution_count": 15,
   "metadata": {
    "collapsed": true
   },
   "outputs": [],
   "source": [
    "# Solver por RK45 de la ecuación diferencial\n",
    "sol2=integrate.solve_ivp(acel2,[0000.1,300],[0000.1], method='RK45',max_step=1)"
   ]
  },
  {
   "cell_type": "code",
   "execution_count": 60,
   "metadata": {
    "collapsed": true
   },
   "outputs": [],
   "source": [
    "# Ajuste de los arreglos\n",
    "art3=acel2(0,sol2.y[0,:])\n",
    "vel3=np.append([0],sol2.y)\n",
    "art4=np.append([0],art3)\n",
    "t3=np.append([0],sol2.t)"
   ]
  },
  {
   "cell_type": "markdown",
   "metadata": {},
   "source": [
    "### 1.3 Comparación de los modelos\n",
    "___\n",
    "<div style=\"text-align: jusify\">Es preciso establecer cuál modelo es pertienente utilizar para continuar con el desarrollo de la simulación para el kart. Con este objetivo se graficó la velocidad y la aceleración que alcanza el kart en un periodo de 300 segundos par ambos modelos.</div>   \n"
   ]
  },
  {
   "cell_type": "code",
   "execution_count": 61,
   "metadata": {},
   "outputs": [
    {
     "data": {
      "image/png": "[encoded data removed]",
      "text/plain": [
       "<matplotlib.figure.Figure at 0x2305299a240>"
      ]
     },
     "metadata": {},
     "output_type": "display_data"
    }
   ],
   "source": [
    "#Graficación comparativa de la velocidad\n",
    "\n",
    "plt.title('Desempeño de la velocidad')\n",
    "plt.xlabel(\"Tiempo [s]\")\n",
    "plt.ylabel(\"Velocidad [m/s]\")\n",
    "    \n",
    "plt.plot(t2, vel2, 'b', label='Resistencia a la rodadura constante')\n",
    "plt.plot(t3, vel3, 'r', label='Resistencia a la rodadura variable')\n",
    "axes = plt.gca()\n",
    "axes.set_xlim([0,300])\n",
    "axes.set_ylim([0,25])\n",
    "        \n",
    "plt.legend(loc='lower right')\n",
    "plt.grid()\n",
    "plt.show()"
   ]
  },
  {
   "cell_type": "code",
   "execution_count": 62,
   "metadata": {},
   "outputs": [
    {
     "data": {
      "image/png": "[encoded data removed]",
      "text/plain": [
       "<matplotlib.figure.Figure at 0x2305299dbe0>"
      ]
     },
     "metadata": {},
     "output_type": "display_data"
    }
   ],
   "source": [
    "#Graficación comparativa de la aceleración\n",
    "\n",
    "plt.title('Desempeño de la aceleración')\n",
    "plt.xlabel(\"Tiempo [s]\")\n",
    "plt.ylabel(\"Aceleración [m/$s^2$]\")\n",
    "    \n",
    "plt.plot(t2, art2, 'b', label='Resistencia a la rodadura constante')\n",
    "plt.plot(t3, art4, 'r', label='Resistencia a la rodadura variable')\n",
    "axes = plt.gca()\n",
    "axes.set_xlim([0,300])\n",
    "axes.set_ylim([0,0.6])\n",
    "        \n",
    "plt.legend(loc='lower right')\n",
    "plt.grid()\n",
    "plt.show()"
   ]
  },
  {
   "cell_type": "markdown",
   "metadata": {},
   "source": [
    "<div style=\"text-align: justify\">Si se observan los resultados obtenidos es evidente que el modelo que considera la resistencia a la rodadura constante subestima los valores tanto de velocidad como aceleración máximos. Es por esto, que para el desarrollo de la simuación es pertinente utilizar el modelo que considera la resistencia a la rodadura variable con la velocidad, ya que es más completo y preciso. </div>   \n",
    "\n",
    "## <div style=\"text-align: justify\">2. Desempeño en la desaceleración del kart (frenado) </div>  \n",
    "___\n",
    "<div style=\"text-align: justify\">A continuación se plantea un modelo matemático para la solución de las ecuaciones de frenado para el kart:</div><br>\n",
    "<div style=\"text-align: center\">$\\frac{\\partial v_x}{\\partial t} =\\frac{-\\frac{T_b}{r}-0.01w(1+\\frac{v_x}{100})\\frac{a}{l}-D_A}{M+\\frac{(I_w+I_d+I_eN_g^2)}{r^2}+0.01\\frac{w}{g}(1+\\frac{v_x}{100})\\frac{h}{l}}$</div><br>\n",
    "\n",
    "<div style=\"text-align: justify\">La única diferencia que presenta dicho modelo con respecto al de aceleración con resistencia a la rodadura variable es el término $T_b$, el cual representa el torque de frenado y va acompañado de un signo negativo ya que se opone a la dirección del movimiento:</div>"
   ]
  },
  {
   "cell_type": "code",
   "execution_count": 44,
   "metadata": {
    "collapsed": true
   },
   "outputs": [],
   "source": [
    "# Torque de frenado para un kart eléctrico tomado de:\n",
    "# https://www.ijraset.com/fileserve.php?FID=6146\n",
    "Tb=98.669*2+431.14 "
   ]
  },
  {
   "cell_type": "code",
   "execution_count": 45,
   "metadata": {
    "collapsed": true
   },
   "outputs": [],
   "source": [
    "# Ecuación diferencial de la forma dv/dt=f(t,v) considerando la resistencia a la rodadura variable con la aceleración\n",
    "def fren(t,vel):\n",
    "    \n",
    "    alpha=Tb/refc\n",
    "    beta=masa+((illt*2+ieje+ii*ng**2)/(refc**2))\n",
    "    gama=(0.01*(1+(vel/100)))*w\n",
    "    \n",
    "    num=-alpha-gama*(a/l)-Fdrag(vel)\n",
    "    den=beta+(gama/g)*(h/l)\n",
    "        \n",
    "    fr=num/den\n",
    "    \n",
    "    return fr"
   ]
  },
  {
   "cell_type": "code",
   "execution_count": 46,
   "metadata": {
    "collapsed": true
   },
   "outputs": [],
   "source": [
    "# Solver por RK45 de la ecuación diferencial con punto inicial en la velocidad máxima\n",
    "V_in=vel3.max()\n",
    "sol3=integrate.solve_ivp(fren,[0,0.77],[V_in], method='RK45',max_step=0.005)"
   ]
  },
  {
   "cell_type": "code",
   "execution_count": 47,
   "metadata": {
    "collapsed": true
   },
   "outputs": [],
   "source": [
    "# Ajuste de los arreglos\n",
    "art5=fren(0,sol3.y[0,:])\n",
    "vel4=np.append(sol3.y,[0])\n",
    "art6=np.append([0],art5)\n",
    "t4=np.append([0],sol3.t)"
   ]
  },
  {
   "cell_type": "code",
   "execution_count": 48,
   "metadata": {},
   "outputs": [
    {
     "data": {
      "image/png": "[encoded data removed]",
      "text/plain": [
       "<matplotlib.figure.Figure at 0x2305269e2e8>"
      ]
     },
     "metadata": {},
     "output_type": "display_data"
    }
   ],
   "source": [
    "#Velocidad\n",
    "plt.plot(t4, vel4, 'b', label='posición(t)')\n",
    "axes = plt.gca()\n",
    "axes.set_xlim([0,0.8])\n",
    "axes.set_ylim([0,22])\n",
    "plt.title('Desempeño en velocidad')\n",
    "plt.xlabel('Tiempo [s]')\n",
    "plt.ylabel('Velocidad [m/s]')\n",
    "plt.grid()\n",
    "plt.show()"
   ]
  },
  {
   "cell_type": "code",
   "execution_count": 49,
   "metadata": {},
   "outputs": [
    {
     "data": {
      "image/png": "[encoded data removed]",
      "text/plain": [
       "<matplotlib.figure.Figure at 0x2305267b390>"
      ]
     },
     "metadata": {},
     "output_type": "display_data"
    }
   ],
   "source": [
    "# Aceleración\n",
    "plt.plot(sol3.t,art5, 'b', label='posición(t)')\n",
    "axes = plt.gca()\n",
    "axes.set_xlim([0,0.8])\n",
    "axes.set_ylim([-27.7,-27])\n",
    "plt.title('Desempeño en aceleración')\n",
    "plt.xlabel('Tiempo [s]')\n",
    "plt.ylabel('Aceleración [m/$s^2$]')\n",
    "plt.grid()\n",
    "plt.show()"
   ]
  },
  {
   "cell_type": "markdown",
   "metadata": {},
   "source": [
    "## <div style=\"text-align: justify\">3. Modelo arrancada y frenado </div>\n",
    "___\n",
    "<div style=\"text-align: justify\">A continuación se plantea un modelo matemático para el calculo del tiempo y la distancia que toma llevar el kart a velocidad máxima y frenado total.</div> "
   ]
  },
  {
   "cell_type": "code",
   "execution_count": 26,
   "metadata": {
    "collapsed": true
   },
   "outputs": [],
   "source": [
    "# Ciclo que calcula cuando deja de haber un cambio significativo en la velocidad\n",
    "tol=0.14\n",
    "newarr =[]\n",
    "for i in range(0,len(vel3)):\n",
    "    if ((vel3[i]-vel3[i-1]))>=tol:\n",
    "        \n",
    "        newarr.append(vel3[i])\n",
    "    \n",
    "newarr1=np.append([0],newarr)\n",
    "tnew=t3[:len(newarr1)]\n"
   ]
  },
  {
   "cell_type": "code",
   "execution_count": 27,
   "metadata": {
    "collapsed": true
   },
   "outputs": [],
   "source": [
    "distvelmax=integrate.trapz(newarr1,tnew)\n",
    "timevelmax=tnew[-1]\n",
    "distbrk=integrate.trapz(vel4,t4)\n",
    "timebrk=t4[-1]"
   ]
  },
  {
   "cell_type": "code",
   "execution_count": 28,
   "metadata": {
    "scrolled": true
   },
   "outputs": [
    {
     "name": "stdout",
     "output_type": "stream",
     "text": [
      "El kart acelera de 0 a 18.58 m/s en un tiempo de 46.11 s y recorriendo un distancia de 552.17 m.\n",
      "El kart desacelera de 18.58 a 0 m/s en un tiempo de 0.77 s y reccorre un distancia de 8.08 m.\n"
     ]
    }
   ],
   "source": [
    "print('El kart acelera de 0 a', round(newarr1.max(),2),'m/s en un tiempo de',round(timevelmax,2),'s y recorriendo un distancia de',round(distvelmax,2),'m.')\n",
    "print('El kart desacelera de', round(newarr1.max(),2), 'a 0 m/s en un tiempo de',round(timebrk,2),'s y reccorre un distancia de',round(distbrk,2),'m.')"
   ]
  },
  {
   "cell_type": "markdown",
   "metadata": {},
   "source": [
    "## <div style=\"text-align: justify\">4. Variación de parámetros </div>  \n",
    "___\n",
    "<div style=\"text-align: justify\">Con el objetivo de identificar como los parámetros del kart que dictan los modelos matemáticos afectan la velocidad y aceleración del mismo se tomaron como variables los siguintes valores:</div>   \n",
    "\n",
    "* $M$=Masa [152 kg, 162 kg y 172 kg]  \n",
    "* $N_g$=Relación de transmisión [3.2 y 3.4]   \n",
    "* $C_f$=Coeficiente de arrastre [0.80, 0.85 y 0.89]  \n",
    "\n",
    "\n",
    "\n",
    "### <div style=\"text-align: justify\">4.1 Masa </div>\n",
    "___\n"
   ]
  },
  {
   "cell_type": "code",
   "execution_count": 57,
   "metadata": {
    "collapsed": true
   },
   "outputs": [],
   "source": [
    "mv=152 # o 162 o 172 [kg]\n",
    "wv=mv*g\n",
    "\n",
    "def acelmv(t,vel):\n",
    "    \n",
    "    alpha=(Torq(vel)*ng*nu)/refc\n",
    "    beta=mv+((illt*2+ieje+ii*ng**2)/(refc**2))\n",
    "    gama=(0.01*(1+(vel/100)))*wv\n",
    "    \n",
    "    num=alpha-gama*(a/l)-Fdrag(vel)\n",
    "    den=beta+(gama/g)*(h/l)\n",
    "    a2=num/den\n",
    "    \n",
    "    return a2\n"
   ]
  },
  {
   "cell_type": "code",
   "execution_count": 54,
   "metadata": {
    "collapsed": true
   },
   "outputs": [],
   "source": [
    "solm1=integrate.solve_ivp(acelmv,[0000.1,300],[0000.1], method='RK45',max_step=1)"
   ]
  },
  {
   "cell_type": "code",
   "execution_count": 56,
   "metadata": {
    "collapsed": true
   },
   "outputs": [],
   "source": [
    "solm2=integrate.solve_ivp(acelmv,[0000.1,300],[0000.1], method='RK45',max_step=1)"
   ]
  },
  {
   "cell_type": "code",
   "execution_count": 58,
   "metadata": {
    "collapsed": true
   },
   "outputs": [],
   "source": [
    "solm3=integrate.solve_ivp(acelmv,[0000.1,300],[0000.1], method='RK45',max_step=1)"
   ]
  },
  {
   "cell_type": "code",
   "execution_count": 65,
   "metadata": {},
   "outputs": [],
   "source": [
    "# Ajuste de los arreglos m1\n",
    "artm11=acelmv(0,solm1.y[0,:])\n",
    "velm1=np.append([0],solm1.y)\n",
    "artm12=np.append([0],artm11)\n",
    "tm1=np.append([0],solm1.t)\n",
    "\n",
    "# Ajuste de los arreglos m2\n",
    "artm21=acelmv(0,solm2.y[0,:])\n",
    "velm2=np.append([0],solm2.y)\n",
    "artm22=np.append([0],artm21)\n",
    "tm2=np.append([0],solm2.t)\n",
    "\n",
    "# Ajuste de los arreglos m3\n",
    "artm31=acelmv(0,solm3.y[0,:])\n",
    "velm3=np.append([0],solm3.y)\n",
    "artm32=np.append([0],artm31)\n",
    "tm3=np.append([0],solm3.t)"
   ]
  },
  {
   "cell_type": "code",
   "execution_count": 74,
   "metadata": {},
   "outputs": [
    {
     "data": {
      "image/png": "[encoded data removed]",
      "text/plain": [
       "<matplotlib.figure.Figure at 0x230515a74a8>"
      ]
     },
     "metadata": {},
     "output_type": "display_data"
    }
   ],
   "source": [
    "#Graficación comparativa de la velocidad\n",
    "\n",
    "plt.title('Desempeño de la velocidad con respecto a la masa')\n",
    "plt.xlabel(\"Tiempo [s]\")\n",
    "plt.ylabel(\"Velocidad [m/s]\")\n",
    "    \n",
    "plt.plot(tm1, velm1, 'b', label='152 kg')\n",
    "plt.plot(tm2, velm2, 'r', label='162 kg')\n",
    "plt.plot(tm3, velm3, 'g', label='172 kg')\n",
    "axes = plt.gca()\n",
    "axes.set_xlim([0,300])\n",
    "axes.set_ylim([0,25])\n",
    "        \n",
    "plt.legend(loc='lower right')\n",
    "plt.grid()\n",
    "plt.show()"
   ]
  },
  {
   "cell_type": "code",
   "execution_count": 72,
   "metadata": {},
   "outputs": [
    {
     "data": {
      "image/png": "[encoded data removed]",
      "text/plain": [
       "<matplotlib.figure.Figure at 0x230515b7ac8>"
      ]
     },
     "metadata": {},
     "output_type": "display_data"
    }
   ],
   "source": [
    "#Graficación comparativa de la aceleración\n",
    "\n",
    "plt.title('Desempeño de la aceleración con respecto a la masa')\n",
    "plt.xlabel(\"Tiempo [s]\")\n",
    "plt.ylabel(\"Aceleración [m/$s^2$]\")\n",
    "    \n",
    "plt.plot(tm1, artm12, 'b', label='152 kg')\n",
    "plt.plot(tm2, artm22, 'r', label='162 kg')\n",
    "plt.plot(tm3, artm32, 'g', label='172 kg')\n",
    "axes = plt.gca()\n",
    "axes.set_xlim([0,300])\n",
    "axes.set_ylim([0,0.6])\n",
    "        \n",
    "plt.legend(loc='lower right')\n",
    "plt.grid()\n",
    "plt.show()"
   ]
  },
  {
   "cell_type": "code",
   "execution_count": 82,
   "metadata": {},
   "outputs": [
    {
     "name": "stdout",
     "output_type": "stream",
     "text": [
      "El kart aumenta su velocidad máxima en 0.055 si su masa se disminuye en 20 kg\n"
     ]
    }
   ],
   "source": [
    "print('El kart aumenta su velocidad máxima en', round(max(velm1)-max(velm3),3),'si su masa se disminuye en 20 kg')"
   ]
  },
  {
   "cell_type": "markdown",
   "metadata": {},
   "source": [
    "<div style=\"text-align: justify\">Tal como se puede apreciar en las gráficas de velocidad y aceleración, entre menor es la masa del kart se alcanza con mayor rapidez la velocidad máxima (la cual también es mayor), esto se debe a que la masa afecta negativamente al modelo planteado en el factor de fuerza de rodadura y divide en sí toda la expresión.</div>   \n",
    "\n",
    "\n",
    "### <div style=\"text-align: justify\">4.2 Relación de transmisión </div>\n",
    "___\n"
   ]
  },
  {
   "cell_type": "code",
   "execution_count": null,
   "metadata": {
    "collapsed": true
   },
   "outputs": [],
   "source": [
    "Ngv= 3.2 # o 3.4"
   ]
  }
 ],
 "metadata": {
  "kernelspec": {
   "display_name": "Python 3",
   "language": "python",
   "name": "python3"
  },
  "language_info": {
   "codemirror_mode": {
    "name": "ipython",
    "version": 3
   },
   "file_extension": ".py",
   "mimetype": "text/x-python",
   "name": "python",
   "nbconvert_exporter": "python",
   "pygments_lexer": "ipython3",
   "version": "3.6.3"
  }
 },
 "nbformat": 4,
 "nbformat_minor": 2
}
