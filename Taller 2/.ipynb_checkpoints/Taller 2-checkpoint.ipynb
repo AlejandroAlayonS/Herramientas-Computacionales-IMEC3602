{
 "cells": [
  {
   "cell_type": "markdown",
   "metadata": {},
   "source": [
    "# <div style=\"text-align: center\"> Taller 2 </div>  \n",
    "<div style=\"text-align: center\"> Alejandro Alayón Suárez - 201316083</div>\n",
    "___"
   ]
  },
  {
   "cell_type": "code",
   "execution_count": 21,
   "metadata": {
    "collapsed": true
   },
   "outputs": [],
   "source": [
    "import scipy as sp\n",
    "import numpy as np\n",
    "import scipy.integrate as integrate\n",
    "import matplotlib.pyplot as plt"
   ]
  },
  {
   "cell_type": "markdown",
   "metadata": {},
   "source": [
    "<div style=\"text-align: justify\">Para el desarrollo del presente taller se utilizaron los parámetros del kart planteados por Córdoba y Clavijo los cuales son expuestos a continuación.</div> "
   ]
  },
  {
   "cell_type": "code",
   "execution_count": 239,
   "metadata": {
    "collapsed": true
   },
   "outputs": [],
   "source": [
    "g=9.81 #(m/s^2)\n",
    "rho=1.1955 #Densidad del aire (kg/m^3)\n",
    "masa=152 #Masa del kart (kg)\n",
    "w=masa*g #Peso del kart (N)\n",
    "Cd=0.89 #Coeficiente de arrastre\n",
    "dll= 0.975 #Distancia entre ejes de llantas traseras (m)\n",
    "alj= 0.88 # Altura del kart con piloto de 1.68 m (m)\n",
    "Af= dll*alj/2 #(m^2)\n",
    "a=0.2231 # Distancia del centro de gravedad al eje de la llanta trasera (m)\n",
    "l=1.0063 # Distancia de eje de las llantas traseras y delanteras (m)\n",
    "h=0.07478 # Altura del centro de gravedad del kart con respecto al piso (m)\n",
    "ng=3.2 #Relación de transmisión (también puede ser 3.4)\n",
    "rll=0.139 #Radio geométrico de las llantas traseras (m)\n",
    "refc=0.98*rll #Radio efectivo de las llantas traseras (m)\n",
    "nu=0.95 #Eficiencia total de la transmisión\n",
    "reje=0.02 # Radio eje de las llantas (m)\n",
    "meje=3.832 # Masa del eje (kg)\n",
    "ieje=(meje*reje**2)/2.0 # Inercia del eje de las llantas (kg-m^2)\n",
    "ii=5.2E-3 # Inercia motor eléctrico (kg m^2)\n",
    "mllt=1.43 # Masa llantas traseras (kg)\n",
    "mlld=1.20 # Masa llantas delanteras (kg)\n",
    "rlld=0.129 # Radio llantas delanteras (m)\n",
    "rind=0.0631 # Radio rin llantas delanteras (m)\n",
    "rin=0.0631 #radio interno del neumático (m)\n",
    "mbt=0.7*mllt # El porcentaje de la masa total que pesa la parte \"banda\" de la llanta trasera\n",
    "mdt=0.3*mllt # El porcentaje de la masa total que pesa la parte \"disco\" de la llanta trasera\n",
    "mbd=0.7*mlld # El porcentaje de la masa total que pesa la parte \"banda\" de la llanta delantera\n",
    "mdd=0.3*mlld # El porcentaje de la masa total que pesa la parte \"disco\" de la llanta delantera\n",
    "illd=(mbd*rlld)+(mdd*(rlld**2-rind**2))/2 # Inercia 1 llanta delantera (kg-m^2)\n",
    "illt=(mbt*rll)+(mdt*(rll**2-rin**2))/2 # Inercia 1 llanta trasera (kg-m^2)"
   ]
  },
  {
   "cell_type": "markdown",
   "metadata": {},
   "source": [
    "### <div style=\"text-align: justify\">1. Desempeño en la aceleración del kart </div>  \n",
    "___\n",
    "<div style=\"text-align: justify\">A continuación se plantea un modelo matemático para la solución de las ecuaciones de velocidad y aceleración para el kart.</div> "
   ]
  },
  {
   "cell_type": "code",
   "execution_count": 94,
   "metadata": {},
   "outputs": [],
   "source": [
    "# Función que calcula el torque producido por el motor según la velocidad lineal del kart.\n",
    "def Torq(vel):\n",
    "    \n",
    "    omega=(vel*ng)/refc #Velocidad angular del motor (rad/s)\n",
    "    \n",
    "    if omega.all() > 5000*2*np.pi/60:\n",
    "        omega=5000*2*np.pi/60\n",
    "        \n",
    "    P=3.037*((-0.00000004564538677*omega**3)+(0.0001056995459*omega**2)+(1.53209191*omega)-1.895523696)\n",
    "    \n",
    "    if omega.all() == 0:\n",
    "        T=0\n",
    "    else:\n",
    "        T=P/omega\n",
    "            \n",
    "    return T"
   ]
  },
  {
   "cell_type": "code",
   "execution_count": 237,
   "metadata": {
    "collapsed": true
   },
   "outputs": [],
   "source": [
    "# Función que calcula la fuerza de tracción producida por el motor eléctrico sobre el kart según la velocidad y aceleración del mismo.\n",
    "def Ftrac(vel,acl):\n",
    "        \n",
    "    Ftracx=(Torq(vel)*ng*nu)/refc-((illt*2+ieje+ii*ng**2))*(acl/(refc**2))\n",
    "    \n",
    "    return Ftracx"
   ]
  },
  {
   "cell_type": "code",
   "execution_count": 8,
   "metadata": {
    "collapsed": true
   },
   "outputs": [],
   "source": [
    "# Función que calcula la fuerza de resistencia a la rodadura variable con la aceleración y velocidad\n",
    "def Fresr(vel,acl):\n",
    "    fr=0.01*(1+(vel/100))\n",
    "    wr=w*((a/l)+(acl/g)*(h/l))\n",
    "    return fr*wr"
   ]
  },
  {
   "cell_type": "code",
   "execution_count": 9,
   "metadata": {
    "collapsed": true
   },
   "outputs": [],
   "source": [
    "# Función que calcula la fuerza de resistencia a la rodadura constante con la aceleración y variable con la velocidad\n",
    "def Fresrc(vel):\n",
    "    fr=0.01*(1+(vel/100))\n",
    "    return fr*w"
   ]
  },
  {
   "cell_type": "code",
   "execution_count": 11,
   "metadata": {
    "collapsed": true
   },
   "outputs": [],
   "source": [
    "# Función que calcula la fuerza de resistencia al viento o fuerza de arrastre sobre el kart dependiendo de la velocidad del mismo\n",
    "def Fdrag(vel): \n",
    "    return 0.5*rho*Af*Cd*vel**2"
   ]
  },
  {
   "cell_type": "markdown",
   "metadata": {},
   "source": [
    "#### 1.1 Modelo para resistencia a la rodadura constante \n",
    "___"
   ]
  },
  {
   "cell_type": "code",
   "execution_count": 121,
   "metadata": {
    "collapsed": true
   },
   "outputs": [],
   "source": [
    "# Ecuación diferencial de la forma dv/dt=f(t,v) considerando la resistencia a la rodadura constante con la aceleración\n",
    "def acel(t,vel):\n",
    "    \n",
    "    num=((Torq(vel)*ng*nu)/refc)-Fresrc(vel)-Fdrag(vel)\n",
    "    den=(masa+((illt*2+ieje+ii*ng**2)/(refc**2)))\n",
    "    a=num/den\n",
    "    \n",
    "    return a"
   ]
  },
  {
   "cell_type": "code",
   "execution_count": 176,
   "metadata": {},
   "outputs": [],
   "source": [
    "# Solver por RK45 de la ecuación diferencial\n",
    "sol=integrate.solve_ivp(acel,[0000.1,300],[0000.1], method='RK45',max_step=1)"
   ]
  },
  {
   "cell_type": "code",
   "execution_count": 238,
   "metadata": {},
   "outputs": [],
   "source": [
    "# Ajuste de los arreglos\n",
    "art=acel(0,sol.y[0,:])\n",
    "vel2=np.append([0],sol.y)\n",
    "art2=np.append([0],art)\n",
    "t2=np.append([0],sol.t)"
   ]
  },
  {
   "cell_type": "code",
   "execution_count": 235,
   "metadata": {},
   "outputs": [
    {
     "data": {
      "image/png": "[encoded data removed]",
      "text/plain": [
       "<matplotlib.figure.Figure at 0x1c514d82dd8>"
      ]
     },
     "metadata": {},
     "output_type": "display_data"
    }
   ],
   "source": [
    "# Velocidad\n",
    "plt.plot(t2, vel2, 'b')\n",
    "axes = plt.gca()\n",
    "axes.set_xlim([0,300])\n",
    "axes.set_ylim([0,20])\n",
    "plt.title('Desempeño en velocidad')\n",
    "plt.xlabel('Tiempo [s]')\n",
    "plt.ylabel('Velocidad [m/s]')\n",
    "plt.grid()\n",
    "plt.show()"
   ]
  },
  {
   "cell_type": "code",
   "execution_count": 261,
   "metadata": {},
   "outputs": [
    {
     "data": {
      "image/png": "[encoded data removed]",
      "text/plain": [
       "<matplotlib.figure.Figure at 0x1c51576f160>"
      ]
     },
     "metadata": {},
     "output_type": "display_data"
    }
   ],
   "source": [
    "# Aceleración\n",
    "plt.plot(t2,art2, 'b', label='posición(t)')\n",
    "axes = plt.gca()\n",
    "axes.set_xlim([0,300])\n",
    "axes.set_ylim([0,0.6])\n",
    "plt.title('Desempeño en aceleración')\n",
    "plt.xlabel('Tiempo [s]')\n",
    "plt.ylabel('Aceleración [m^2/s]')\n",
    "plt.grid()\n",
    "plt.show()"
   ]
  },
  {
   "cell_type": "markdown",
   "metadata": {},
   "source": [
    "#### 1.2 Modelo para resistencia a la rodadura variable\n",
    "___"
   ]
  },
  {
   "cell_type": "code",
   "execution_count": 241,
   "metadata": {
    "collapsed": true
   },
   "outputs": [],
   "source": [
    "# Ecuación diferencial de la forma dv/dt=f(t,v) considerando la resistencia a la rodadura variable con la aceleración\n",
    "def acel2(t,vel):\n",
    "    \n",
    "    alpha=(Torq(vel)*ng*nu)/refc\n",
    "    beta=masa+((illt*2+ieje+ii*ng**2)/(refc**2))\n",
    "    gama=(0.01*(1+(vel/100)))*w\n",
    "    \n",
    "    num=alpha-gama*(a/l)-Fdrag(vel)\n",
    "    den=beta+(gama/g)*(h/l)\n",
    "    a2=num/den\n",
    "    \n",
    "    return a2"
   ]
  },
  {
   "cell_type": "code",
   "execution_count": 243,
   "metadata": {
    "collapsed": true
   },
   "outputs": [],
   "source": [
    "# Solver por RK45 de la ecuación diferencial\n",
    "sol2=integrate.solve_ivp(acel2,[0000.1,300],[0000.1], method='RK45',max_step=1)"
   ]
  },
  {
   "cell_type": "code",
   "execution_count": 280,
   "metadata": {
    "collapsed": true
   },
   "outputs": [],
   "source": [
    "# Ajuste de los arreglos\n",
    "art3=acel2(0,sol2.y[0,:])\n",
    "vel3=np.append([0],sol2.y)\n",
    "art4=np.append([0],art3)\n",
    "t3=np.append([0],sol.t)"
   ]
  },
  {
   "cell_type": "code",
   "execution_count": 281,
   "metadata": {},
   "outputs": [
    {
     "data": {
      "image/png": "[encoded data removed]",
      "text/plain": [
       "<matplotlib.figure.Figure at 0x1c51529ae48>"
      ]
     },
     "metadata": {},
     "output_type": "display_data"
    }
   ],
   "source": [
    "# Velocidad\n",
    "plt.plot(t3, vel3, 'b')\n",
    "axes = plt.gca()\n",
    "axes.set_xlim([0,300])\n",
    "axes.set_ylim([0,23])\n",
    "plt.title('Desempeño en velocidad')\n",
    "plt.xlabel('Tiempo [s]')\n",
    "plt.ylabel('Velocidad [m/s]')\n",
    "plt.grid()\n",
    "plt.show()"
   ]
  },
  {
   "cell_type": "code",
   "execution_count": 282,
   "metadata": {},
   "outputs": [
    {
     "data": {
      "image/png": "[encoded data removed]",
      "text/plain": [
       "<matplotlib.figure.Figure at 0x1c5150150b8>"
      ]
     },
     "metadata": {},
     "output_type": "display_data"
    }
   ],
   "source": [
    "# Aceleración\n",
    "plt.plot(t3,art4, 'b', label='posición(t)')\n",
    "axes = plt.gca()\n",
    "axes.set_xlim([0,300])\n",
    "axes.set_ylim([0,0.6])\n",
    "plt.title('Desempeño en aceleración')\n",
    "plt.xlabel('Tiempo [s]')\n",
    "plt.ylabel('Aceleración [m/s^2]')\n",
    "plt.grid()\n",
    "plt.show()"
   ]
  },
  {
   "cell_type": "markdown",
   "metadata": {},
   "source": [
    "### <div style=\"text-align: justify\">2. Desempeño en la desaceleración del kart (frenado) </div>  \n",
    "___\n",
    "<div style=\"text-align: justify\">A continuación se plantea un modelo matemático para la solución de las ecuaciones de frenado para el kart.</div> "
   ]
  },
  {
   "cell_type": "code",
   "execution_count": 249,
   "metadata": {
    "collapsed": true
   },
   "outputs": [],
   "source": [
    "# Torque de frenado para un kart eléctrico tomado de:\n",
    "# https://www.ijraset.com/fileserve.php?FID=6146\n",
    "Tb=98.669*2+431.14 "
   ]
  },
  {
   "cell_type": "code",
   "execution_count": 312,
   "metadata": {},
   "outputs": [],
   "source": [
    "# Ecuación diferencial de la forma dv/dt=f(t,v) considerando la resistencia a la rodadura variable con la aceleración\n",
    "def fren(t,vel):\n",
    "    \n",
    "    alpha=Tb/refc\n",
    "    beta=masa+((illt*2+ieje+ii*ng**2)/(refc**2))\n",
    "    gama=(0.01*(1+(vel/100)))*w\n",
    "    \n",
    "    num=-alpha-gama*(a/l)-Fdrag(vel)\n",
    "    den=beta+(gama/g)*(h/l)\n",
    "        \n",
    "    fr=num/den\n",
    "    \n",
    "    return fr"
   ]
  },
  {
   "cell_type": "code",
   "execution_count": 351,
   "metadata": {},
   "outputs": [],
   "source": [
    "# Solver por RK45 de la ecuación diferencial con punto inicial en la velocidad máxima\n",
    "V_in=vel3.max()\n",
    "sol3=integrate.solve_ivp(fren,[0,0.77],[V_in], method='RK45',max_step=0.005)"
   ]
  },
  {
   "cell_type": "code",
   "execution_count": 352,
   "metadata": {
    "collapsed": true
   },
   "outputs": [],
   "source": [
    "# Ajuste de los arreglos\n",
    "art5=fren(0,sol3.y[0,:])\n",
    "vel4=np.append(sol3.y,[0])\n",
    "art6=np.append([0],art5)\n",
    "t4=np.append([0],sol3.t)"
   ]
  },
  {
   "cell_type": "code",
   "execution_count": 353,
   "metadata": {},
   "outputs": [
    {
     "data": {
      "image/png": "[encoded data removed]",
      "text/plain": [
       "<matplotlib.figure.Figure at 0x1c514fe7a58>"
      ]
     },
     "metadata": {},
     "output_type": "display_data"
    }
   ],
   "source": [
    "#Velocidad\n",
    "plt.plot(t4, vel4, 'b', label='posición(t)')\n",
    "axes = plt.gca()\n",
    "axes.set_xlim([0,0.8])\n",
    "axes.set_ylim([0,22])\n",
    "plt.title('Desempeño en aceleración')\n",
    "plt.xlabel('Tiempo [s]')\n",
    "plt.ylabel('Velocidad [m/s]')\n",
    "plt.grid()\n",
    "plt.show()"
   ]
  },
  {
   "cell_type": "code",
   "execution_count": 354,
   "metadata": {},
   "outputs": [
    {
     "data": {
      "image/png": "[encoded data removed]",
      "text/plain": [
       "<matplotlib.figure.Figure at 0x1c51550d240>"
      ]
     },
     "metadata": {},
     "output_type": "display_data"
    }
   ],
   "source": [
    "# Aceleración\n",
    "plt.plot(sol3.t,art5, 'b', label='posición(t)')\n",
    "axes = plt.gca()\n",
    "axes.set_xlim([0,0.8])\n",
    "axes.set_ylim([-27.7,-27])\n",
    "plt.title('Desempeño en aceleración')\n",
    "plt.xlabel('Tiempo [s]')\n",
    "plt.ylabel('Aceleración [m/s^2]')\n",
    "plt.grid()\n",
    "plt.show()"
   ]
  },
  {
   "cell_type": "markdown",
   "metadata": {},
   "source": [
    "### <div style=\"text-align: justify\">3. Modelo arrancada y frenado </div>  \n",
    "___\n",
    "<div style=\"text-align: justify\">A continuación se plantea un modelo matemático para el calculo del tiempo y la distancia que toma llevar el kart a velocidad máxima y frenado total.</div> "
   ]
  },
  {
   "cell_type": "code",
   "execution_count": 358,
   "metadata": {},
   "outputs": [],
   "source": [
    "# Ciclo que calcula cuando deja de haber un cambio significativo en la velocidad\n",
    "tol=0.01\n",
    "newarr =[]\n",
    "for i in range(0,len(vel3)):\n",
    "    if ((vel3[i]-vel3[i-1]))>=tol:\n",
    "        \n",
    "        newarr.append(vel3[i])\n",
    "    \n",
    "newarr1=np.append([0],newarr)\n",
    "tnew=t3[:len(newarr1)]\n"
   ]
  },
  {
   "cell_type": "code",
   "execution_count": 364,
   "metadata": {},
   "outputs": [],
   "source": [
    "distvelmax=integrate.trapz(newarr1,tnew)\n",
    "timevelmax=tnew[-1]\n",
    "distbrk=integrate.trapz(vel4,t4)\n",
    "timebrk=t4[-1]"
   ]
  },
  {
   "cell_type": "code",
   "execution_count": 388,
   "metadata": {
    "scrolled": true
   },
   "outputs": [
    {
     "name": "stdout",
     "output_type": "stream",
     "text": [
      "El kart acelera de 0 a 21.0 m/s en un tiempo de 98.11 s y recorriendo un distancia de 1548.09 m.\n",
      "El kart desacelera de 21.0 a 0 m/s en un tiempo de 0.77 s y reccorre un distancia de 8.08 m.\n"
     ]
    }
   ],
   "source": [
    "print('El kart acelera de 0 a', round(newarr1.max(),2),'m/s en un tiempo de',round(timevelmax,2),'s y recorriendo un distancia de',round(distvelmax,2),'m.')\n",
    "print('El kart desacelera de', round(newarr1.max(),2), 'a 0 m/s en un tiempo de',round(timebrk,2),'s y reccorre un distancia de',round(distbrk,2),'m.')"
   ]
  }
 ],
 "metadata": {
  "kernelspec": {
   "display_name": "Python 3",
   "language": "python",
   "name": "python3"
  },
  "language_info": {
   "codemirror_mode": {
    "name": "ipython",
    "version": 3
   },
   "file_extension": ".py",
   "mimetype": "text/x-python",
   "name": "python",
   "nbconvert_exporter": "python",
   "pygments_lexer": "ipython3",
   "version": "3.6.3"
  }
 },
 "nbformat": 4,
 "nbformat_minor": 2
}
